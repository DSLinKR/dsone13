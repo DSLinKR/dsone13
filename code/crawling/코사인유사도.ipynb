{
 "cells": [
  {
   "cell_type": "code",
   "execution_count": 58,
   "metadata": {
    "ExecuteTime": {
     "end_time": "2020-11-28T03:01:15.342431Z",
     "start_time": "2020-11-28T03:01:15.336592Z"
    }
   },
   "outputs": [],
   "source": [
    "from sklearn.feature_extraction.text import TfidfVectorizer\n",
    "from sklearn.feature_extraction.text import CountVectorizer\n",
    "from sklearn.metrics.pairwise import cosine_similarity\n",
    "import numpy as np\n",
    "import copy"
   ]
  },
  {
   "cell_type": "code",
   "execution_count": 105,
   "metadata": {
    "ExecuteTime": {
     "end_time": "2020-11-29T11:29:09.385118Z",
     "start_time": "2020-11-29T11:29:09.379794Z"
    }
   },
   "outputs": [],
   "source": [
    "# 초성 리스트. 00 ~ 18\n",
    "CHOSUNG_LIST = ['ㄱ', 'ㄲ', 'ㄴ', 'ㄷ', 'ㄸ', 'ㄹ', 'ㅁ', 'ㅂ', 'ㅃ', 'ㅅ', 'ㅆ', 'ㅇ', 'ㅈ', 'ㅉ', 'ㅊ', 'ㅋ', 'ㅌ', 'ㅍ', 'ㅎ']\n",
    "# 중성 리스트. 00 ~ 20\n",
    "JUNGSUNG_LIST = ['ㅏ', 'ㅐ', 'ㅑ', 'ㅒ', 'ㅓ', 'ㅔ', 'ㅕ', 'ㅖ', 'ㅗ', 'ㅘ', 'ㅙ', 'ㅚ', 'ㅛ', 'ㅜ', 'ㅝ', 'ㅞ', 'ㅟ', 'ㅠ', 'ㅡ', 'ㅢ', 'ㅣ']\n",
    "# 종성 리스트. 00 ~ 27 + 1(1개 없음)\n",
    "JONGSUNG_LIST = [' ', 'ㄱ', 'ㄲ', 'ㄳ', 'ㄴ', 'ㄵ', 'ㄶ', 'ㄷ', 'ㄹ', 'ㄺ', 'ㄻ', 'ㄼ', 'ㄽ', 'ㄾ', 'ㄿ', 'ㅀ', 'ㅁ', 'ㅂ', 'ㅄ', 'ㅅ', 'ㅆ', 'ㅇ', 'ㅈ', 'ㅊ', 'ㅋ', 'ㅌ', 'ㅍ', 'ㅎ']\n",
    "\n",
    "def korean_to_be_englished(korean_word):\n",
    "    r_lst = []\n",
    "    for w in list(korean_word.strip()):\n",
    "        ## 영어인 경우 구분해서 작성함. \n",
    "        if '가'<=w<='힣':\n",
    "            ## 588개 마다 초성이 바뀜. \n",
    "            ch1 = (ord(w) - ord('가'))//588\n",
    "            ## 중성은 총 28가지 종류\n",
    "            ch2 = ((ord(w) - ord('가')) - (588*ch1)) // 28\n",
    "            ch3 = (ord(w) - ord('가')) - (588*ch1) - 28*ch2\n",
    "            r_lst.append(CHOSUNG_LIST[ch1])\n",
    "            r_lst.append(JUNGSUNG_LIST[ch2])\n",
    "            if JONGSUNG_LIST[ch3] != ' ':\n",
    "                r_lst.append(JONGSUNG_LIST[ch3])\n",
    "\n",
    "        else:\n",
    "            r_lst.append(w)\n",
    "#    return ' '.join(r_lst)\n",
    "    return ''.join(r_lst)"
   ]
  },
  {
   "cell_type": "code",
   "execution_count": 124,
   "metadata": {
    "ExecuteTime": {
     "end_time": "2020-11-29T11:39:36.872552Z",
     "start_time": "2020-11-29T11:39:36.869048Z"
    }
   },
   "outputs": [],
   "source": [
    "def to_vect_cos1(a,b):\n",
    "    aa = korean_to_be_englished(a)\n",
    "    bb = korean_to_be_englished(b)\n",
    "    \n",
    "    test={}\n",
    "    cc = aa+bb\n",
    "    for i in cc:\n",
    "        if i not in test:\n",
    "            test[i]=0\n",
    "            \n",
    "            \n",
    "    test1 = copy.deepcopy(test)\n",
    "    for i in aa:\n",
    "        if i in test1:\n",
    "            test1[i]+=1\n",
    "            \n",
    "    test2 = copy.deepcopy(test)\n",
    "    for i in bb:\n",
    "        if i in test2:\n",
    "            test2[i]+=1\n",
    "    \n",
    "    return cosine_similarity([list(test1.values()), list(test2.values())])[1,0]\n",
    "    "
   ]
  },
  {
   "cell_type": "code",
   "execution_count": 125,
   "metadata": {
    "ExecuteTime": {
     "end_time": "2020-11-29T11:39:41.902874Z",
     "start_time": "2020-11-29T11:39:41.895380Z"
    }
   },
   "outputs": [],
   "source": [
    "def to_vect_cos2(a,b):\n",
    "#    aa = korean_to_be_englished(a)\n",
    "#    bb = korean_to_be_englished(b)\n",
    "    \n",
    "    test={}\n",
    "    cc = a+b\n",
    "    for i in cc:\n",
    "        if i not in test:\n",
    "            test[i]=0\n",
    "            \n",
    "            \n",
    "    test1 = copy.deepcopy(test)\n",
    "    for i in a:\n",
    "        if i in test1:\n",
    "            test1[i]+=1\n",
    "            \n",
    "    test2 = copy.deepcopy(test)\n",
    "    for i in b:\n",
    "        if i in test2:\n",
    "            test2[i]+=1\n",
    "\n",
    "    return cosine_similarity([list(test1.values()), list(test2.values())])[1,0]\n",
    "    "
   ]
  },
  {
   "cell_type": "code",
   "execution_count": 129,
   "metadata": {
    "ExecuteTime": {
     "end_time": "2020-11-29T11:42:55.239590Z",
     "start_time": "2020-11-29T11:42:55.234118Z"
    }
   },
   "outputs": [],
   "source": [
    "def harm(a,b):\n",
    "    return 2*to_vect_cos1(a,b)*to_vect_cos2(a,b)/(to_vect_cos1(a,b)+to_vect_cos2(a,b))"
   ]
  },
  {
   "cell_type": "code",
   "execution_count": 130,
   "metadata": {
    "ExecuteTime": {
     "end_time": "2020-11-29T11:43:05.862228Z",
     "start_time": "2020-11-29T11:43:05.855179Z"
    }
   },
   "outputs": [
    {
     "data": {
      "text/plain": [
       "0.1338503718801725"
      ]
     },
     "execution_count": 130,
     "metadata": {},
     "output_type": "execute_result"
    }
   ],
   "source": [
    "harm('유우키유우나는용자다-와시오스미의장-제3의약속', '인생은공사장')"
   ]
  },
  {
   "cell_type": "code",
   "execution_count": 132,
   "metadata": {
    "ExecuteTime": {
     "end_time": "2020-11-29T11:44:16.444806Z",
     "start_time": "2020-11-29T11:44:16.433115Z"
    }
   },
   "outputs": [
    {
     "data": {
      "text/plain": [
       "0.8948108079576554"
      ]
     },
     "execution_count": 132,
     "metadata": {},
     "output_type": "execute_result"
    }
   ],
   "source": [
    "harm('까마귀 기르기', '갈가마귀 기르기')"
   ]
  },
  {
   "cell_type": "code",
   "execution_count": null,
   "metadata": {},
   "outputs": [],
   "source": []
  }
 ],
 "metadata": {
  "kernelspec": {
   "display_name": "Python 3",
   "language": "python",
   "name": "python3"
  },
  "language_info": {
   "codemirror_mode": {
    "name": "ipython",
    "version": 3
   },
   "file_extension": ".py",
   "mimetype": "text/x-python",
   "name": "python",
   "nbconvert_exporter": "python",
   "pygments_lexer": "ipython3",
   "version": "3.7.0"
  },
  "toc": {
   "base_numbering": 1,
   "nav_menu": {},
   "number_sections": true,
   "sideBar": true,
   "skip_h1_title": false,
   "title_cell": "Table of Contents",
   "title_sidebar": "Contents",
   "toc_cell": false,
   "toc_position": {},
   "toc_section_display": true,
   "toc_window_display": false
  }
 },
 "nbformat": 4,
 "nbformat_minor": 4
}
