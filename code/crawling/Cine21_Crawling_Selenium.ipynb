{
 "cells": [
  {
   "cell_type": "code",
   "execution_count": 1,
   "metadata": {},
   "outputs": [],
   "source": [
    "from selenium import webdriver\n",
    "import time\n",
    "import random\n",
    "from tqdm import tqdm, tqdm_notebook\n",
    "import pandas as pd"
   ]
  },
  {
   "cell_type": "code",
   "execution_count": 2,
   "metadata": {},
   "outputs": [],
   "source": [
    "options = webdriver.ChromeOptions()\n",
    "options.add_argument(\"user-agent=Mozilla/5.0 (Windows NT 6.1; WOW64; Trident/7.0; rv:11.0) like Gecko\")"
   ]
  },
  {
   "cell_type": "code",
   "execution_count": 3,
   "metadata": {},
   "outputs": [],
   "source": [
    "driver = webdriver.Chrome('C:\\\\Users\\\\reoeu\\\\Desktop\\\\2020-2\\\\데이터사이언스\\\\project\\\\chromedriver.exe',options=options)"
   ]
  },
  {
   "cell_type": "code",
   "execution_count": 4,
   "metadata": {},
   "outputs": [],
   "source": [
    "def 별점(x, y, z):\n",
    "    if len(x)==2:\n",
    "        if '네티즌' in x[0].text:\n",
    "            네티즌 = float(x[0].text[4:])\n",
    "            전문가 = float(x[1].text[5:])\n",
    "            네티즌수 = int(z[0].text[8:-5])\n",
    "            전문가수 = int(y[0].text[8:-4])\n",
    "        else:\n",
    "            네티즌 = float(x[1].text[4:])\n",
    "            전문가 = float(x[0].text[5:])\n",
    "            네티즌수 = int(z[0].text[8:-5])\n",
    "            전문가수 = int(y[0].text[8:-4])\n",
    "    elif len(x)==1:\n",
    "        if '네티즌' in x[0].text:\n",
    "            네티즌 = float(x[0].text[4:])\n",
    "            전문가 = ''\n",
    "            네티즌수 = int(z[0].text[8:-5])\n",
    "            전문가수 = 0\n",
    "        else:\n",
    "            네티즌 = ''\n",
    "            전문가 = float(x[0].text[5:])\n",
    "            네티즌수 = 0\n",
    "            전문가수 = int(y[0].text[8:-4])\n",
    "    else:\n",
    "        네티즌 = ''\n",
    "        전문가 = ''\n",
    "        네티즌수 = 0\n",
    "        전문가수 = 0\n",
    "    return 네티즌, 전문가, 네티즌수, 전문가수"
   ]
  },
  {
   "cell_type": "code",
   "execution_count": 5,
   "metadata": {
    "scrolled": true
   },
   "outputs": [
    {
     "name": "stderr",
     "output_type": "stream",
     "text": [
      "C:\\Users\\reoeu\\anaconda3\\lib\\site-packages\\ipykernel_launcher.py:2: TqdmDeprecationWarning: This function will be removed in tqdm==5.0.0\n",
      "Please use `tqdm.notebook.tqdm` instead of `tqdm.tqdm_notebook`\n",
      "  \n"
     ]
    },
    {
     "data": {
      "application/vnd.jupyter.widget-view+json": {
       "model_id": "d1a05bd399284c5f878f85d251ac2c51",
       "version_major": 2,
       "version_minor": 0
      },
      "text/plain": [
       "HBox(children=(FloatProgress(value=0.0, max=29970.0), HTML(value='')))"
      ]
     },
     "metadata": {},
     "output_type": "display_data"
    },
    {
     "name": "stderr",
     "output_type": "stream",
     "text": [
      "ERROR:root:Internal Python error in the inspect module.\n",
      "Below is the traceback from this internal error.\n",
      "\n"
     ]
    },
    {
     "name": "stdout",
     "output_type": "stream",
     "text": [
      "Traceback (most recent call last):\n",
      "  File \"C:\\Users\\reoeu\\anaconda3\\lib\\site-packages\\IPython\\core\\interactiveshell.py\", line 3331, in run_code\n",
      "    exec(code_obj, self.user_global_ns, self.user_ns)\n",
      "  File \"<ipython-input-5-0a7b55709bda>\", line 15, in <module>\n",
      "    time.sleep(rand_value)\n",
      "KeyboardInterrupt\n",
      "\n",
      "During handling of the above exception, another exception occurred:\n",
      "\n",
      "Traceback (most recent call last):\n",
      "  File \"C:\\Users\\reoeu\\anaconda3\\lib\\site-packages\\IPython\\core\\interactiveshell.py\", line 2044, in showtraceback\n",
      "    stb = value._render_traceback_()\n",
      "AttributeError: 'KeyboardInterrupt' object has no attribute '_render_traceback_'\n",
      "\n",
      "During handling of the above exception, another exception occurred:\n",
      "\n",
      "Traceback (most recent call last):\n",
      "  File \"C:\\Users\\reoeu\\anaconda3\\lib\\site-packages\\IPython\\core\\ultratb.py\", line 1151, in get_records\n",
      "    return _fixed_getinnerframes(etb, number_of_lines_of_context, tb_offset)\n",
      "  File \"C:\\Users\\reoeu\\anaconda3\\lib\\site-packages\\IPython\\core\\ultratb.py\", line 319, in wrapped\n",
      "    return f(*args, **kwargs)\n",
      "  File \"C:\\Users\\reoeu\\anaconda3\\lib\\site-packages\\IPython\\core\\ultratb.py\", line 353, in _fixed_getinnerframes\n",
      "    records = fix_frame_records_filenames(inspect.getinnerframes(etb, context))\n",
      "  File \"C:\\Users\\reoeu\\anaconda3\\lib\\inspect.py\", line 1502, in getinnerframes\n",
      "    frameinfo = (tb.tb_frame,) + getframeinfo(tb, context)\n",
      "  File \"C:\\Users\\reoeu\\anaconda3\\lib\\inspect.py\", line 1460, in getframeinfo\n",
      "    filename = getsourcefile(frame) or getfile(frame)\n",
      "  File \"C:\\Users\\reoeu\\anaconda3\\lib\\inspect.py\", line 696, in getsourcefile\n",
      "    if getattr(getmodule(object, filename), '__loader__', None) is not None:\n",
      "  File \"C:\\Users\\reoeu\\anaconda3\\lib\\inspect.py\", line 739, in getmodule\n",
      "    f = getabsfile(module)\n",
      "  File \"C:\\Users\\reoeu\\anaconda3\\lib\\inspect.py\", line 708, in getabsfile\n",
      "    _filename = getsourcefile(object) or getfile(object)\n",
      "  File \"C:\\Users\\reoeu\\anaconda3\\lib\\inspect.py\", line 693, in getsourcefile\n",
      "    if os.path.exists(filename):\n",
      "  File \"C:\\Users\\reoeu\\anaconda3\\lib\\genericpath.py\", line 19, in exists\n",
      "    os.stat(path)\n",
      "KeyboardInterrupt\n"
     ]
    },
    {
     "ename": "KeyboardInterrupt",
     "evalue": "",
     "output_type": "error",
     "traceback": [
      "\u001b[1;31m---------------------------------------------------------------------------\u001b[0m"
     ]
    }
   ],
   "source": [
    "full = {}\n",
    "for i in tqdm_notebook(range(56750,26780, -1)):\n",
    "    try:\n",
    "        driver.get('http://www.cine21.com/movie/info/?movie_id={}'.format(i))\n",
    "        네티즌, 전문가, 네티즌수, 전문가수 = 별점(driver.find_elements_by_xpath('//*[@id=\"container\"]/div[2]/div/div/ul/li'), driver.find_elements_by_xpath('//*[@id=\"content\"]/div[5]/div[1]/div/h2/span'), driver.find_elements_by_xpath('//*[@id=\"netizen_review_area\"]/h2/span'))\n",
    "\n",
    "    except:\n",
    "        네티즌, 전문가, 네티즌수, 전문가수 = 0,'',0,''\n",
    "            \n",
    "    single = {'네티즌':네티즌, '전문가':전문가, '네티즌수':네티즌수, '전문가수':전문가수}\n",
    "    \n",
    "    full[i] = single\n",
    "    \n",
    "    rand_value = random.uniform(0, 0.2)\n",
    "    time.sleep(rand_value)"
   ]
  },
  {
   "cell_type": "code",
   "execution_count": 187,
   "metadata": {},
   "outputs": [
    {
     "data": {
      "text/plain": [
       "{56520: {'네티즌': 7.0, '전문가': 7.25, '네티즌수': 6, '전문가수': 8},\n",
       " 56521: {'네티즌': '', '전문가': '', '네티즌수': 0, '전문가수': 0},\n",
       " 56522: {'네티즌': '', '전문가': '', '네티즌수': 0, '전문가수': 0},\n",
       " 56523: {'네티즌': '', '전문가': '', '네티즌수': 0, '전문가수': 0},\n",
       " 56524: {'네티즌': '', '전문가': '', '네티즌수': 0, '전문가수': 0},\n",
       " 56525: {'네티즌': 9.0, '전문가': '', '네티즌수': 1, '전문가수': 0},\n",
       " 56526: {'네티즌': '', '전문가': 5.0, '네티즌수': 0, '전문가수': 2},\n",
       " 56527: {'네티즌': 0, '전문가': '', '네티즌수': 0, '전문가수': ''},\n",
       " 56528: {'네티즌': 0, '전문가': '', '네티즌수': 0, '전문가수': ''},\n",
       " 56529: {'네티즌': 5.0, '전문가': 5.0, '네티즌수': 2, '전문가수': 2},\n",
       " 56530: {'네티즌': '', '전문가': '', '네티즌수': 0, '전문가수': 0},\n",
       " 56531: {'네티즌': '', '전문가': '', '네티즌수': 0, '전문가수': 0},\n",
       " 56532: {'네티즌': '', '전문가': '', '네티즌수': 0, '전문가수': 0},\n",
       " 56533: {'네티즌': 0, '전문가': '', '네티즌수': 0, '전문가수': ''},\n",
       " 56534: {'네티즌': '', '전문가': '', '네티즌수': 0, '전문가수': 0},\n",
       " 56535: {'네티즌': 0, '전문가': '', '네티즌수': 0, '전문가수': ''}}"
      ]
     },
     "execution_count": 187,
     "metadata": {},
     "output_type": "execute_result"
    }
   ],
   "source": [
    "full"
   ]
  },
  {
   "cell_type": "code",
   "execution_count": 6,
   "metadata": {},
   "outputs": [],
   "source": [
    "pd.DataFrame(full).T.to_csv('score3.csv')"
   ]
  },
  {
   "cell_type": "code",
   "execution_count": null,
   "metadata": {},
   "outputs": [],
   "source": [
    "//*[@id=\"root\"]/div/div[1]/section/div/div/div/section/div[2]/div/div/div/div/div[1]"
   ]
  }
 ],
 "metadata": {
  "kernelspec": {
   "display_name": "Python 3",
   "language": "python",
   "name": "python3"
  },
  "language_info": {
   "codemirror_mode": {
    "name": "ipython",
    "version": 3
   },
   "file_extension": ".py",
   "mimetype": "text/x-python",
   "name": "python",
   "nbconvert_exporter": "python",
   "pygments_lexer": "ipython3",
   "version": "3.7.6"
  }
 },
 "nbformat": 4,
 "nbformat_minor": 4
}
