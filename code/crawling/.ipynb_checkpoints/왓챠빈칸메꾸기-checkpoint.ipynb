{
 "cells": [
  {
   "cell_type": "code",
   "execution_count": 1,
   "metadata": {
    "ExecuteTime": {
     "end_time": "2020-10-28T14:19:29.587590Z",
     "start_time": "2020-10-28T14:19:29.093099Z"
    }
   },
   "outputs": [],
   "source": [
    "import pandas as pd\n",
    "from tqdm import tqdm, tqdm_notebook\n",
    "import requests\n",
    "from bs4 import BeautifulSoup\n",
    "import time\n",
    "import random"
   ]
  },
  {
   "cell_type": "code",
   "execution_count": 2,
   "metadata": {
    "ExecuteTime": {
     "end_time": "2020-10-28T14:19:30.693798Z",
     "start_time": "2020-10-28T14:19:30.687317Z"
    }
   },
   "outputs": [],
   "source": [
    "import os\n",
    "os.chdir('/home/lds/DSL/Github/dsone13/data')"
   ]
  },
  {
   "cell_type": "code",
   "execution_count": 3,
   "metadata": {
    "ExecuteTime": {
     "end_time": "2020-10-28T14:19:33.759766Z",
     "start_time": "2020-10-28T14:19:33.570172Z"
    }
   },
   "outputs": [],
   "source": [
    "HM = pd.read_csv('tohowmany.csv').drop(['Unnamed: 0'], axis=1)"
   ]
  },
  {
   "cell_type": "code",
   "execution_count": 40,
   "metadata": {
    "ExecuteTime": {
     "end_time": "2020-10-28T23:02:02.718714Z",
     "start_time": "2020-10-28T23:02:02.697994Z"
    }
   },
   "outputs": [
    {
     "data": {
      "text/html": [
       "<div>\n",
       "<style scoped>\n",
       "    .dataframe tbody tr th:only-of-type {\n",
       "        vertical-align: middle;\n",
       "    }\n",
       "\n",
       "    .dataframe tbody tr th {\n",
       "        vertical-align: top;\n",
       "    }\n",
       "\n",
       "    .dataframe thead th {\n",
       "        text-align: right;\n",
       "    }\n",
       "</style>\n",
       "<table border=\"1\" class=\"dataframe\">\n",
       "  <thead>\n",
       "    <tr style=\"text-align: right;\">\n",
       "      <th></th>\n",
       "      <th>Unnamed: 0.1</th>\n",
       "      <th>제목_x</th>\n",
       "      <th>연도</th>\n",
       "      <th>국가</th>\n",
       "      <th>등급</th>\n",
       "      <th>장르</th>\n",
       "      <th>상영시간_x</th>\n",
       "      <th>개봉일</th>\n",
       "      <th>누적관객</th>\n",
       "      <th>감독</th>\n",
       "      <th>...</th>\n",
       "      <th>네티즌</th>\n",
       "      <th>전문가</th>\n",
       "      <th>네티즌수</th>\n",
       "      <th>전문가수</th>\n",
       "      <th>제목_y</th>\n",
       "      <th>별점</th>\n",
       "      <th>사람</th>\n",
       "      <th>기타정보</th>\n",
       "      <th>상영시간_y</th>\n",
       "      <th>제목원문</th>\n",
       "    </tr>\n",
       "  </thead>\n",
       "  <tbody>\n",
       "    <tr>\n",
       "      <th>0</th>\n",
       "      <td>1</td>\n",
       "      <td>히트</td>\n",
       "      <td>1995.0</td>\n",
       "      <td>미국</td>\n",
       "      <td>청소년 관람불가</td>\n",
       "      <td>액션, 범죄, 드라마</td>\n",
       "      <td>171분</td>\n",
       "      <td>2017-11-09</td>\n",
       "      <td>454명</td>\n",
       "      <td>마이클 만</td>\n",
       "      <td>...</td>\n",
       "      <td>8.44</td>\n",
       "      <td>NaN</td>\n",
       "      <td>40</td>\n",
       "      <td>0.0</td>\n",
       "      <td>히트</td>\n",
       "      <td>3.9</td>\n",
       "      <td>5만</td>\n",
       "      <td>['1995 ・ 액션 ・ 미국']</td>\n",
       "      <td>2시간 51분</td>\n",
       "      <td>Heat</td>\n",
       "    </tr>\n",
       "    <tr>\n",
       "      <th>1</th>\n",
       "      <td>2</td>\n",
       "      <td>랜섬</td>\n",
       "      <td>1996.0</td>\n",
       "      <td>미국</td>\n",
       "      <td>15세 관람가</td>\n",
       "      <td>드라마, 범죄, 액션</td>\n",
       "      <td>129분</td>\n",
       "      <td>1996-12-07</td>\n",
       "      <td>NaN</td>\n",
       "      <td>론 하워드</td>\n",
       "      <td>...</td>\n",
       "      <td>6.29</td>\n",
       "      <td>NaN</td>\n",
       "      <td>21</td>\n",
       "      <td>0.0</td>\n",
       "      <td>랜섬</td>\n",
       "      <td>3.4</td>\n",
       "      <td>2만</td>\n",
       "      <td>['1996 ・ 범죄 ・ 미국']</td>\n",
       "      <td>2시간 1분</td>\n",
       "      <td>Ransom</td>\n",
       "    </tr>\n",
       "    <tr>\n",
       "      <th>2</th>\n",
       "      <td>3</td>\n",
       "      <td>귀여운 여인</td>\n",
       "      <td>1990.0</td>\n",
       "      <td>미국</td>\n",
       "      <td>청소년 관람불가</td>\n",
       "      <td>멜로·로맨스, 코미디</td>\n",
       "      <td>125분</td>\n",
       "      <td>1990-09-15</td>\n",
       "      <td>NaN</td>\n",
       "      <td>게리 마샬</td>\n",
       "      <td>...</td>\n",
       "      <td>7.37</td>\n",
       "      <td>NaN</td>\n",
       "      <td>39</td>\n",
       "      <td>0.0</td>\n",
       "      <td>귀여운 여인</td>\n",
       "      <td>3.8</td>\n",
       "      <td>24만</td>\n",
       "      <td>['1990 ・ 로맨틱코미디 ・ 미국']</td>\n",
       "      <td>1시간 59분</td>\n",
       "      <td>Pretty Woman</td>\n",
       "    </tr>\n",
       "    <tr>\n",
       "      <th>3</th>\n",
       "      <td>4</td>\n",
       "      <td>라스베가스를 떠나며</td>\n",
       "      <td>1995.0</td>\n",
       "      <td>미국</td>\n",
       "      <td>청소년 관람불가</td>\n",
       "      <td>드라마, 멜로·로맨스</td>\n",
       "      <td>112분</td>\n",
       "      <td>1996-03-01</td>\n",
       "      <td>84명</td>\n",
       "      <td>마이크 피기스</td>\n",
       "      <td>...</td>\n",
       "      <td>7.97</td>\n",
       "      <td>NaN</td>\n",
       "      <td>37</td>\n",
       "      <td>0.0</td>\n",
       "      <td>라스베가스를 떠나며</td>\n",
       "      <td>3.7</td>\n",
       "      <td>3만</td>\n",
       "      <td>['1995 ・ 로맨스 ・ 미국']</td>\n",
       "      <td>1시간 51분</td>\n",
       "      <td>Leaving Las Vegas</td>\n",
       "    </tr>\n",
       "    <tr>\n",
       "      <th>4</th>\n",
       "      <td>5</td>\n",
       "      <td>보디가드</td>\n",
       "      <td>1992.0</td>\n",
       "      <td>미국</td>\n",
       "      <td>15세 관람가</td>\n",
       "      <td>뮤직, 멜로·로맨스</td>\n",
       "      <td>125분</td>\n",
       "      <td>2018-09-26</td>\n",
       "      <td>NaN</td>\n",
       "      <td>믹 잭슨</td>\n",
       "      <td>...</td>\n",
       "      <td>6.36</td>\n",
       "      <td>NaN</td>\n",
       "      <td>25</td>\n",
       "      <td>0.0</td>\n",
       "      <td>보디가드</td>\n",
       "      <td>3.6</td>\n",
       "      <td>9만</td>\n",
       "      <td>['1992 ・ 액션 ・ 미국']</td>\n",
       "      <td>NaN</td>\n",
       "      <td>The Bodyguard</td>\n",
       "    </tr>\n",
       "  </tbody>\n",
       "</table>\n",
       "<p>5 rows × 21 columns</p>\n",
       "</div>"
      ],
      "text/plain": [
       "   Unnamed: 0.1        제목_x      연도  국가        등급           장르 상영시간_x  \\\n",
       "0             1          히트  1995.0  미국  청소년 관람불가  액션, 범죄, 드라마   171분   \n",
       "1             2          랜섬  1996.0  미국   15세 관람가  드라마, 범죄, 액션   129분   \n",
       "2             3      귀여운 여인  1990.0  미국  청소년 관람불가  멜로·로맨스, 코미디   125분   \n",
       "3             4  라스베가스를 떠나며  1995.0  미국  청소년 관람불가  드라마, 멜로·로맨스   112분   \n",
       "4             5        보디가드  1992.0  미국   15세 관람가   뮤직, 멜로·로맨스   125분   \n",
       "\n",
       "          개봉일  누적관객       감독  ...   네티즌  전문가  네티즌수  전문가수        제목_y   별점  \\\n",
       "0  2017-11-09  454명    마이클 만  ...  8.44  NaN    40   0.0          히트  3.9   \n",
       "1  1996-12-07   NaN    론 하워드  ...  6.29  NaN    21   0.0          랜섬  3.4   \n",
       "2  1990-09-15   NaN    게리 마샬  ...  7.37  NaN    39   0.0      귀여운 여인  3.8   \n",
       "3  1996-03-01   84명  마이크 피기스  ...  7.97  NaN    37   0.0  라스베가스를 떠나며  3.7   \n",
       "4  2018-09-26   NaN     믹 잭슨  ...  6.36  NaN    25   0.0        보디가드  3.6   \n",
       "\n",
       "    사람                    기타정보   상영시간_y               제목원문  \n",
       "0   5만      ['1995 ・ 액션 ・ 미국']  2시간 51분               Heat  \n",
       "1   2만      ['1996 ・ 범죄 ・ 미국']   2시간 1분             Ransom  \n",
       "2  24만  ['1990 ・ 로맨틱코미디 ・ 미국']  1시간 59분       Pretty Woman  \n",
       "3   3만     ['1995 ・ 로맨스 ・ 미국']  1시간 51분  Leaving Las Vegas  \n",
       "4   9만      ['1992 ・ 액션 ・ 미국']      NaN      The Bodyguard  \n",
       "\n",
       "[5 rows x 21 columns]"
      ]
     },
     "execution_count": 40,
     "metadata": {},
     "output_type": "execute_result"
    }
   ],
   "source": [
    "HM.head()"
   ]
  },
  {
   "cell_type": "code",
   "execution_count": 10,
   "metadata": {
    "ExecuteTime": {
     "end_time": "2020-10-28T14:20:45.779447Z",
     "start_time": "2020-10-28T14:20:45.757431Z"
    }
   },
   "outputs": [],
   "source": [
    "tobesearched = list(HM['Unnamed: 0.1'])"
   ]
  },
  {
   "cell_type": "code",
   "execution_count": 6,
   "metadata": {
    "ExecuteTime": {
     "end_time": "2020-10-28T14:19:42.145936Z",
     "start_time": "2020-10-28T14:19:42.143463Z"
    }
   },
   "outputs": [],
   "source": [
    "session = requests.Session()\n",
    "headers = {\n",
    "    \"User-Agent\": \"Mozilla/5.0 (Macintosh; Intel Mac OS X 10_9_5) AppleWebKit 537.36 (KHTML, like Gecko) Chrome\",\n",
    "    \"Accept\": \"text/html,application/xhtml+xml,application/xml;q=0.9,image/webp,*/*;q=0.8\"\n",
    "}"
   ]
  },
  {
   "cell_type": "code",
   "execution_count": 7,
   "metadata": {
    "ExecuteTime": {
     "end_time": "2020-10-28T14:19:47.244838Z",
     "start_time": "2020-10-28T14:19:47.065891Z"
    }
   },
   "outputs": [],
   "source": [
    "    URL = 'http://www.cine21.com/movie/info/?movie_id={}'.format(11)\n",
    "    html = session.get(URL, headers=headers).text\n",
    "    soup = BeautifulSoup(html, 'html.parser')"
   ]
  },
  {
   "cell_type": "code",
   "execution_count": 11,
   "metadata": {
    "ExecuteTime": {
     "end_time": "2020-10-28T14:20:51.050273Z",
     "start_time": "2020-10-28T14:20:51.030214Z"
    }
   },
   "outputs": [
    {
     "data": {
      "text/plain": [
       "'Michael Collins'"
      ]
     },
     "execution_count": 11,
     "metadata": {},
     "output_type": "execute_result"
    }
   ],
   "source": [
    "soup.select('#container > div.movie_detail_top_area > div > div > div.mov_info > p.tit_eng > span')[0].text"
   ]
  },
  {
   "cell_type": "code",
   "execution_count": 12,
   "metadata": {
    "ExecuteTime": {
     "end_time": "2020-10-28T16:00:40.807481Z",
     "start_time": "2020-10-28T14:20:58.908838Z"
    }
   },
   "outputs": [
    {
     "name": "stderr",
     "output_type": "stream",
     "text": [
      "/home/lds/anaconda3/envs/DL/lib/python3.7/site-packages/ipykernel_launcher.py:2: TqdmDeprecationWarning: This function will be removed in tqdm==5.0.0\n",
      "Please use `tqdm.notebook.tqdm` instead of `tqdm.tqdm_notebook`\n",
      "  \n"
     ]
    },
    {
     "data": {
      "application/vnd.jupyter.widget-view+json": {
       "model_id": "9bf335140ff14f0c8d9cb30df01c791d",
       "version_major": 2,
       "version_minor": 0
      },
      "text/plain": [
       "HBox(children=(FloatProgress(value=0.0, max=52048.0), HTML(value='')))"
      ]
     },
     "metadata": {},
     "output_type": "display_data"
    },
    {
     "name": "stdout",
     "output_type": "stream",
     "text": [
      "\n"
     ]
    }
   ],
   "source": [
    "full = {}\n",
    "for i in tqdm_notebook(tobesearched):\n",
    "    \n",
    "    URL = 'http://www.cine21.com/movie/info/?movie_id={}'.format(i)\n",
    "    html = session.get(URL, headers=headers).text\n",
    "    soup = BeautifulSoup(html, 'html.parser')\n",
    "\n",
    "\n",
    "    try:\n",
    "        제목 = soup.select('#container > div.movie_detail_top_area > div > div > div.mov_info > p.tit_eng > span')[0].text\n",
    "    except:\n",
    "        제목 = \"\"\n",
    "    \n",
    "    single = {'제목원문':제목}\n",
    "    \n",
    "    full[i] = single"
   ]
  },
  {
   "cell_type": "code",
   "execution_count": 38,
   "metadata": {
    "ExecuteTime": {
     "end_time": "2020-10-28T23:01:15.101177Z",
     "start_time": "2020-10-28T23:01:12.519641Z"
    }
   },
   "outputs": [],
   "source": [
    "HM['제목원문'] = list(pd.DataFrame(full).T.제목원문)"
   ]
  },
  {
   "cell_type": "code",
   "execution_count": 41,
   "metadata": {
    "ExecuteTime": {
     "end_time": "2020-10-28T23:02:18.224554Z",
     "start_time": "2020-10-28T23:02:18.203900Z"
    }
   },
   "outputs": [
    {
     "data": {
      "text/html": [
       "<div>\n",
       "<style scoped>\n",
       "    .dataframe tbody tr th:only-of-type {\n",
       "        vertical-align: middle;\n",
       "    }\n",
       "\n",
       "    .dataframe tbody tr th {\n",
       "        vertical-align: top;\n",
       "    }\n",
       "\n",
       "    .dataframe thead th {\n",
       "        text-align: right;\n",
       "    }\n",
       "</style>\n",
       "<table border=\"1\" class=\"dataframe\">\n",
       "  <thead>\n",
       "    <tr style=\"text-align: right;\">\n",
       "      <th></th>\n",
       "      <th>Unnamed: 0.1</th>\n",
       "      <th>제목_x</th>\n",
       "      <th>연도</th>\n",
       "      <th>국가</th>\n",
       "      <th>등급</th>\n",
       "      <th>장르</th>\n",
       "      <th>상영시간_x</th>\n",
       "      <th>개봉일</th>\n",
       "      <th>누적관객</th>\n",
       "      <th>감독</th>\n",
       "      <th>...</th>\n",
       "      <th>네티즌</th>\n",
       "      <th>전문가</th>\n",
       "      <th>네티즌수</th>\n",
       "      <th>전문가수</th>\n",
       "      <th>제목_y</th>\n",
       "      <th>별점</th>\n",
       "      <th>사람</th>\n",
       "      <th>기타정보</th>\n",
       "      <th>상영시간_y</th>\n",
       "      <th>제목원문</th>\n",
       "    </tr>\n",
       "  </thead>\n",
       "  <tbody>\n",
       "    <tr>\n",
       "      <th>0</th>\n",
       "      <td>1</td>\n",
       "      <td>히트</td>\n",
       "      <td>1995.0</td>\n",
       "      <td>미국</td>\n",
       "      <td>청소년 관람불가</td>\n",
       "      <td>액션, 범죄, 드라마</td>\n",
       "      <td>171분</td>\n",
       "      <td>2017-11-09</td>\n",
       "      <td>454명</td>\n",
       "      <td>마이클 만</td>\n",
       "      <td>...</td>\n",
       "      <td>8.44</td>\n",
       "      <td>NaN</td>\n",
       "      <td>40</td>\n",
       "      <td>0.0</td>\n",
       "      <td>히트</td>\n",
       "      <td>3.9</td>\n",
       "      <td>5만</td>\n",
       "      <td>['1995 ・ 액션 ・ 미국']</td>\n",
       "      <td>2시간 51분</td>\n",
       "      <td>Heat</td>\n",
       "    </tr>\n",
       "    <tr>\n",
       "      <th>1</th>\n",
       "      <td>2</td>\n",
       "      <td>랜섬</td>\n",
       "      <td>1996.0</td>\n",
       "      <td>미국</td>\n",
       "      <td>15세 관람가</td>\n",
       "      <td>드라마, 범죄, 액션</td>\n",
       "      <td>129분</td>\n",
       "      <td>1996-12-07</td>\n",
       "      <td>NaN</td>\n",
       "      <td>론 하워드</td>\n",
       "      <td>...</td>\n",
       "      <td>6.29</td>\n",
       "      <td>NaN</td>\n",
       "      <td>21</td>\n",
       "      <td>0.0</td>\n",
       "      <td>랜섬</td>\n",
       "      <td>3.4</td>\n",
       "      <td>2만</td>\n",
       "      <td>['1996 ・ 범죄 ・ 미국']</td>\n",
       "      <td>2시간 1분</td>\n",
       "      <td>Ransom</td>\n",
       "    </tr>\n",
       "    <tr>\n",
       "      <th>2</th>\n",
       "      <td>3</td>\n",
       "      <td>귀여운 여인</td>\n",
       "      <td>1990.0</td>\n",
       "      <td>미국</td>\n",
       "      <td>청소년 관람불가</td>\n",
       "      <td>멜로·로맨스, 코미디</td>\n",
       "      <td>125분</td>\n",
       "      <td>1990-09-15</td>\n",
       "      <td>NaN</td>\n",
       "      <td>게리 마샬</td>\n",
       "      <td>...</td>\n",
       "      <td>7.37</td>\n",
       "      <td>NaN</td>\n",
       "      <td>39</td>\n",
       "      <td>0.0</td>\n",
       "      <td>귀여운 여인</td>\n",
       "      <td>3.8</td>\n",
       "      <td>24만</td>\n",
       "      <td>['1990 ・ 로맨틱코미디 ・ 미국']</td>\n",
       "      <td>1시간 59분</td>\n",
       "      <td>Pretty Woman</td>\n",
       "    </tr>\n",
       "    <tr>\n",
       "      <th>3</th>\n",
       "      <td>4</td>\n",
       "      <td>라스베가스를 떠나며</td>\n",
       "      <td>1995.0</td>\n",
       "      <td>미국</td>\n",
       "      <td>청소년 관람불가</td>\n",
       "      <td>드라마, 멜로·로맨스</td>\n",
       "      <td>112분</td>\n",
       "      <td>1996-03-01</td>\n",
       "      <td>84명</td>\n",
       "      <td>마이크 피기스</td>\n",
       "      <td>...</td>\n",
       "      <td>7.97</td>\n",
       "      <td>NaN</td>\n",
       "      <td>37</td>\n",
       "      <td>0.0</td>\n",
       "      <td>라스베가스를 떠나며</td>\n",
       "      <td>3.7</td>\n",
       "      <td>3만</td>\n",
       "      <td>['1995 ・ 로맨스 ・ 미국']</td>\n",
       "      <td>1시간 51분</td>\n",
       "      <td>Leaving Las Vegas</td>\n",
       "    </tr>\n",
       "    <tr>\n",
       "      <th>4</th>\n",
       "      <td>5</td>\n",
       "      <td>보디가드</td>\n",
       "      <td>1992.0</td>\n",
       "      <td>미국</td>\n",
       "      <td>15세 관람가</td>\n",
       "      <td>뮤직, 멜로·로맨스</td>\n",
       "      <td>125분</td>\n",
       "      <td>2018-09-26</td>\n",
       "      <td>NaN</td>\n",
       "      <td>믹 잭슨</td>\n",
       "      <td>...</td>\n",
       "      <td>6.36</td>\n",
       "      <td>NaN</td>\n",
       "      <td>25</td>\n",
       "      <td>0.0</td>\n",
       "      <td>보디가드</td>\n",
       "      <td>3.6</td>\n",
       "      <td>9만</td>\n",
       "      <td>['1992 ・ 액션 ・ 미국']</td>\n",
       "      <td>NaN</td>\n",
       "      <td>The Bodyguard</td>\n",
       "    </tr>\n",
       "  </tbody>\n",
       "</table>\n",
       "<p>5 rows × 21 columns</p>\n",
       "</div>"
      ],
      "text/plain": [
       "   Unnamed: 0.1        제목_x      연도  국가        등급           장르 상영시간_x  \\\n",
       "0             1          히트  1995.0  미국  청소년 관람불가  액션, 범죄, 드라마   171분   \n",
       "1             2          랜섬  1996.0  미국   15세 관람가  드라마, 범죄, 액션   129분   \n",
       "2             3      귀여운 여인  1990.0  미국  청소년 관람불가  멜로·로맨스, 코미디   125분   \n",
       "3             4  라스베가스를 떠나며  1995.0  미국  청소년 관람불가  드라마, 멜로·로맨스   112분   \n",
       "4             5        보디가드  1992.0  미국   15세 관람가   뮤직, 멜로·로맨스   125분   \n",
       "\n",
       "          개봉일  누적관객       감독  ...   네티즌  전문가  네티즌수  전문가수        제목_y   별점  \\\n",
       "0  2017-11-09  454명    마이클 만  ...  8.44  NaN    40   0.0          히트  3.9   \n",
       "1  1996-12-07   NaN    론 하워드  ...  6.29  NaN    21   0.0          랜섬  3.4   \n",
       "2  1990-09-15   NaN    게리 마샬  ...  7.37  NaN    39   0.0      귀여운 여인  3.8   \n",
       "3  1996-03-01   84명  마이크 피기스  ...  7.97  NaN    37   0.0  라스베가스를 떠나며  3.7   \n",
       "4  2018-09-26   NaN     믹 잭슨  ...  6.36  NaN    25   0.0        보디가드  3.6   \n",
       "\n",
       "    사람                    기타정보   상영시간_y               제목원문  \n",
       "0   5만      ['1995 ・ 액션 ・ 미국']  2시간 51분               Heat  \n",
       "1   2만      ['1996 ・ 범죄 ・ 미국']   2시간 1분             Ransom  \n",
       "2  24만  ['1990 ・ 로맨틱코미디 ・ 미국']  1시간 59분       Pretty Woman  \n",
       "3   3만     ['1995 ・ 로맨스 ・ 미국']  1시간 51분  Leaving Las Vegas  \n",
       "4   9만      ['1992 ・ 액션 ・ 미국']      NaN      The Bodyguard  \n",
       "\n",
       "[5 rows x 21 columns]"
      ]
     },
     "execution_count": 41,
     "metadata": {},
     "output_type": "execute_result"
    }
   ],
   "source": [
    "HM.head()"
   ]
  },
  {
   "cell_type": "code",
   "execution_count": 42,
   "metadata": {
    "ExecuteTime": {
     "end_time": "2020-10-28T23:02:37.792373Z",
     "start_time": "2020-10-28T23:02:37.351115Z"
    }
   },
   "outputs": [],
   "source": [
    "HM.to_csv('tohowmany.csv', index=False)"
   ]
  },
  {
   "cell_type": "code",
   "execution_count": null,
   "metadata": {},
   "outputs": [],
   "source": []
  }
 ],
 "metadata": {
  "kernelspec": {
   "display_name": "Python 3",
   "language": "python",
   "name": "python3"
  },
  "language_info": {
   "codemirror_mode": {
    "name": "ipython",
    "version": 3
   },
   "file_extension": ".py",
   "mimetype": "text/x-python",
   "name": "python",
   "nbconvert_exporter": "python",
   "pygments_lexer": "ipython3",
   "version": "3.7.0"
  },
  "toc": {
   "base_numbering": 1,
   "nav_menu": {},
   "number_sections": true,
   "sideBar": true,
   "skip_h1_title": false,
   "title_cell": "Table of Contents",
   "title_sidebar": "Contents",
   "toc_cell": false,
   "toc_position": {},
   "toc_section_display": true,
   "toc_window_display": false
  }
 },
 "nbformat": 4,
 "nbformat_minor": 4
}
