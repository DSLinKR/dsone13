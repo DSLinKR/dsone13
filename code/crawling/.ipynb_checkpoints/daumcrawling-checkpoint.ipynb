{
 "cells": [
  {
   "cell_type": "code",
   "execution_count": 1,
   "metadata": {
    "id": "Z7_vyr9OD5P1"
   },
   "outputs": [],
   "source": [
    "import requests\n",
    "from bs4 import BeautifulSoup as bs\n",
    "import re\n",
    "import pandas as pd\n",
    "import numpy as np\n",
    "import json"
   ]
  },
  {
   "cell_type": "code",
   "execution_count": 30,
   "metadata": {
    "id": "A0qKXA8oD97q"
   },
   "outputs": [],
   "source": [
    "def get_daum(movie_id): \n",
    "    url = 'https://movie.daum.net/moviedb/main?movieId={}'.format(movie_id)\n",
    "    resp = requests.get(url)\n",
    "     \n",
    "    soup = bs(resp.text, 'html.parser')\n",
    "     \n",
    "    title_tag = soup.select_one('h2.tit_rel')\n",
    "\n",
    "    if type(title_tag) != 'NoneType':\n",
    "    \n",
    "        title = title_tag.get_text()\n",
    "     \n",
    "        script = soup.find('script')\n",
    "    \n",
    "        def scripts(x):\n",
    "            for i in x:\n",
    "                return i\n",
    "    \n",
    "        sc = scripts(script)\n",
    "    \n",
    "        jsc = json.loads(sc)\n",
    "    \n",
    "        rv = jsc[\"ratingValue\"]\n",
    "        rc = jsc[\"ratingCount\"]\n",
    "        date = jsc['itemReviewed']['dateCreated']\n",
    "        \n",
    "\n",
    "        entitle = soup.find('span', {'class' : 'txt_origin'})\n",
    "        \n",
    "        entitle = entitle.get_text()\n",
    "        \n",
    "        info = soup.select('dd')\n",
    "        \n",
    "        genre = info[0].text\n",
    "        \n",
    "        nation = info[1].text\n",
    "\n",
    "        df = pd.DataFrame([movie_id, title, entitle,  date, nation, genre, rv, rc])\n",
    "    \n",
    "        df = df.transpose()\n",
    "    \n",
    "    \n",
    "        df.columns = [\"영화코드\", \"제목\",\"영어제목\", \"개봉일\", \"국가\" , \"장르\", \"별점\", \"네티즌수\"]\n",
    "    \n",
    "        return df   "
   ]
  },
  {
   "cell_type": "code",
   "execution_count": 31,
   "metadata": {
    "id": "Rdmo_9tdF4WH"
   },
   "outputs": [],
   "source": [
    "import time\n",
    "from tqdm import tqdm"
   ]
  },
  {
   "cell_type": "code",
   "execution_count": 32,
   "metadata": {
    "colab": {
     "base_uri": "https://localhost:8080/",
     "height": 1000
    },
    "id": "74EuN5ztGIre",
    "outputId": "67045483-cf55-4cbb-d6bc-91b9f49a43fa"
   },
   "outputs": [
    {
     "name": "stderr",
     "output_type": "stream",
     "text": [
      "100%|██████████████████████████████████████████████████████████████████████████| 20000/20000 [1:10:07<00:00,  4.75it/s]\n"
     ]
    }
   ],
   "source": [
    "movie = pd.DataFrame()\n",
    "for i in tqdm(range(20000)):\n",
    "    try:\n",
    "        movie = movie.append(get_daum(i+1))\n",
    "    except AttributeError:\n",
    "        pass\n",
    "    except requests.ConnectionError:\n",
    "        pass\n",
    "    except TimeoutError:\n",
    "        pass\n",
    "    except KeyError:\n",
    "        pass\n",
    "    except IndexError:\n",
    "        pass"
   ]
  },
  {
   "cell_type": "code",
   "execution_count": 33,
   "metadata": {
    "colab": {
     "base_uri": "https://localhost:8080/",
     "height": 170
    },
    "id": "AXQJv-tCH_vT",
    "outputId": "9e6c1324-8227-405c-9947-a7e50f2c6b36"
   },
   "outputs": [],
   "source": [
    "movie.to_csv(\"daum_movie.csv\", index = False)"
   ]
  },
  {
   "cell_type": "code",
   "execution_count": 34,
   "metadata": {
    "id": "PdJMgrdfIBRJ",
    "scrolled": true
   },
   "outputs": [
    {
     "name": "stderr",
     "output_type": "stream",
     "text": [
      "100%|██████████████████████████████████████████████████████████████████████████| 20000/20000 [1:23:03<00:00,  4.01it/s]\n"
     ]
    }
   ],
   "source": [
    "for i in tqdm(range(20000, 40000)):\n",
    "    try:\n",
    "        movie = movie.append(get_daum(i+1))\n",
    "    except AttributeError:\n",
    "        pass\n",
    "    except requests.ConnectionError:\n",
    "        pass\n",
    "    except TimeoutError:\n",
    "        pass\n",
    "    except KeyError:\n",
    "        pass\n",
    "    except IndexError:\n",
    "        pass"
   ]
  },
  {
   "cell_type": "code",
   "execution_count": 35,
   "metadata": {},
   "outputs": [],
   "source": [
    "movie.to_csv(\"daum_movie.csv\", index = False)"
   ]
  },
  {
   "cell_type": "code",
   "execution_count": 36,
   "metadata": {},
   "outputs": [
    {
     "name": "stderr",
     "output_type": "stream",
     "text": [
      "100%|██████████████████████████████████████████████████████████████████████████| 20000/20000 [1:44:12<00:00,  3.20it/s]\n"
     ]
    }
   ],
   "source": [
    "for i in tqdm(range(40000, 60000)):\n",
    "    try:\n",
    "        movie = movie.append(get_daum(i+1))\n",
    "    except AttributeError:\n",
    "        pass\n",
    "    except requests.ConnectionError:\n",
    "        pass\n",
    "    except TimeoutError:\n",
    "        pass\n",
    "    except KeyError:\n",
    "        pass\n",
    "    except IndexError:\n",
    "        pass"
   ]
  },
  {
   "cell_type": "code",
   "execution_count": 37,
   "metadata": {},
   "outputs": [],
   "source": [
    "movie.to_csv(\"daum_movie.csv\", index = False)"
   ]
  },
  {
   "cell_type": "code",
   "execution_count": 38,
   "metadata": {},
   "outputs": [
    {
     "name": "stderr",
     "output_type": "stream",
     "text": [
      "100%|██████████████████████████████████████████████████████████████████████████| 20000/20000 [1:53:39<00:00,  2.93it/s]\n"
     ]
    }
   ],
   "source": [
    "for i in tqdm(range(60000, 80000)):\n",
    "    try:\n",
    "        movie = movie.append(get_daum(i+1))\n",
    "    except AttributeError:\n",
    "        pass\n",
    "    except requests.ConnectionError:\n",
    "        pass\n",
    "    except TimeoutError:\n",
    "        pass\n",
    "    except KeyError:\n",
    "        pass\n",
    "    except IndexError:\n",
    "        pass"
   ]
  },
  {
   "cell_type": "code",
   "execution_count": 39,
   "metadata": {},
   "outputs": [],
   "source": [
    "movie.to_csv(\"daum_movie.csv\", index = False)"
   ]
  },
  {
   "cell_type": "code",
   "execution_count": 40,
   "metadata": {},
   "outputs": [
    {
     "name": "stderr",
     "output_type": "stream",
     "text": [
      "100%|██████████████████████████████████████████████████████████████████████████| 20000/20000 [1:52:12<00:00,  2.97it/s]\n"
     ]
    }
   ],
   "source": [
    "for i in tqdm(range(80000, 100000)):\n",
    "    try:\n",
    "        movie = movie.append(get_daum(i+1))\n",
    "    except AttributeError:\n",
    "        pass\n",
    "    except requests.ConnectionError:\n",
    "        pass\n",
    "    except TimeoutError:\n",
    "        pass\n",
    "    except KeyError:\n",
    "        pass\n",
    "    except IndexError:\n",
    "        pass"
   ]
  },
  {
   "cell_type": "code",
   "execution_count": 41,
   "metadata": {},
   "outputs": [],
   "source": [
    "movie.to_csv(\"daum_movie.csv\", index = False)"
   ]
  },
  {
   "cell_type": "code",
   "execution_count": 42,
   "metadata": {},
   "outputs": [
    {
     "name": "stderr",
     "output_type": "stream",
     "text": [
      "100%|██████████████████████████████████████████████████████████████████████████| 20000/20000 [1:54:22<00:00,  2.91it/s]\n"
     ]
    }
   ],
   "source": [
    "for i in tqdm(range(100000, 120000)):\n",
    "    try:\n",
    "        movie = movie.append(get_daum(i+1))\n",
    "    except AttributeError:\n",
    "        pass\n",
    "    except requests.ConnectionError:\n",
    "        pass\n",
    "    except TimeoutError:\n",
    "        pass\n",
    "    except KeyError:\n",
    "        pass\n",
    "    except IndexError:\n",
    "        pass"
   ]
  },
  {
   "cell_type": "code",
   "execution_count": 43,
   "metadata": {},
   "outputs": [],
   "source": [
    "movie.to_csv(\"daum_movie.csv\", index = False)"
   ]
  },
  {
   "cell_type": "code",
   "execution_count": 44,
   "metadata": {},
   "outputs": [
    {
     "name": "stderr",
     "output_type": "stream",
     "text": [
      "100%|██████████████████████████████████████████████████████████████████████████| 20000/20000 [1:52:52<00:00,  2.95it/s]\n"
     ]
    }
   ],
   "source": [
    "for i in tqdm(range(120000, 140000)):\n",
    "    try:\n",
    "        movie = movie.append(get_daum(i+1))\n",
    "    except AttributeError:\n",
    "        pass\n",
    "    except requests.ConnectionError:\n",
    "        pass\n",
    "    except TimeoutError:\n",
    "        pass\n",
    "    except KeyError:\n",
    "        pass\n",
    "    except IndexError:\n",
    "        pass"
   ]
  },
  {
   "cell_type": "code",
   "execution_count": 45,
   "metadata": {},
   "outputs": [],
   "source": [
    "movie.to_csv(\"daum_movie.csv\", index = False)"
   ]
  },
  {
   "cell_type": "code",
   "execution_count": 46,
   "metadata": {},
   "outputs": [
    {
     "name": "stderr",
     "output_type": "stream",
     "text": [
      "100%|██████████████████████████████████████████████████████████████████████████████| 5298/5298 [29:33<00:00,  2.99it/s]\n"
     ]
    }
   ],
   "source": [
    "for i in tqdm(range(140000, 145298)):\n",
    "    try:\n",
    "        movie = movie.append(get_daum(i+1))\n",
    "    except AttributeError:\n",
    "        pass\n",
    "    except requests.ConnectionError:\n",
    "        pass\n",
    "    except TimeoutError:\n",
    "        pass\n",
    "    except KeyError:\n",
    "        pass\n",
    "    except IndexError:\n",
    "        pass"
   ]
  },
  {
   "cell_type": "code",
   "execution_count": 47,
   "metadata": {},
   "outputs": [],
   "source": [
    "movie.to_csv(\"daum_movie.csv\", index = False)"
   ]
  },
  {
   "cell_type": "code",
   "execution_count": null,
   "metadata": {},
   "outputs": [],
   "source": []
  },
  {
   "cell_type": "code",
   "execution_count": null,
   "metadata": {},
   "outputs": [],
   "source": []
  }
 ],
 "metadata": {
  "colab": {
   "collapsed_sections": [],
   "name": "daumcrawling.ipynb",
   "provenance": []
  },
  "kernelspec": {
   "display_name": "Python 3",
   "language": "python",
   "name": "python3"
  },
  "language_info": {
   "codemirror_mode": {
    "name": "ipython",
    "version": 3
   },
   "file_extension": ".py",
   "mimetype": "text/x-python",
   "name": "python",
   "nbconvert_exporter": "python",
   "pygments_lexer": "ipython3",
   "version": "3.7.7"
  }
 },
 "nbformat": 4,
 "nbformat_minor": 1
}
