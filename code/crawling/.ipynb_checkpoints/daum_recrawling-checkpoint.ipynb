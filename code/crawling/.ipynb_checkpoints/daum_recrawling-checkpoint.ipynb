{
 "cells": [
  {
   "cell_type": "code",
   "execution_count": 21,
   "metadata": {},
   "outputs": [],
   "source": [
    "import requests\n",
    "from bs4 import BeautifulSoup as bs\n",
    "import re\n",
    "import pandas as pd\n",
    "import numpy as np\n",
    "import json"
   ]
  },
  {
   "cell_type": "code",
   "execution_count": 22,
   "metadata": {},
   "outputs": [],
   "source": [
    "daum = pd.read_csv(\"https://raw.githubusercontent.com/dhxoghks95/dsone13/master/data/daum_movie_backup.csv\")"
   ]
  },
  {
   "cell_type": "code",
   "execution_count": 23,
   "metadata": {},
   "outputs": [],
   "source": [
    "code = daum['영화코드']"
   ]
  },
  {
   "cell_type": "code",
   "execution_count": 24,
   "metadata": {},
   "outputs": [],
   "source": [
    "def get_daum(movie_id): \n",
    "    url = 'https://movie.daum.net/moviedb/main?movieId={}'.format(movie_id)\n",
    "    resp = requests.get(url)\n",
    "     \n",
    "    soup = bs(resp.text, 'html.parser')\n",
    "     \n",
    "    title = soup.find('span', {'class' : 'txt_name'}).text\n",
    "\n",
    "    daum_title = pd.DataFrame([movie_id, title])\n",
    "    daum_title = daum_title.transpose()\n",
    "    daum_title.columns = ['영화코드', '제목']\n",
    "\n",
    "    return daum_title"
   ]
  },
  {
   "cell_type": "code",
   "execution_count": 25,
   "metadata": {},
   "outputs": [],
   "source": [
    "from tqdm import tqdm"
   ]
  },
  {
   "cell_type": "code",
   "execution_count": 26,
   "metadata": {},
   "outputs": [
    {
     "name": "stderr",
     "output_type": "stream",
     "text": [
      "100%|██████████████████████████████████████████████████████████████████████████| 20000/20000 [1:14:01<00:00,  4.50it/s]\n"
     ]
    }
   ],
   "source": [
    "movie = pd.DataFrame()\n",
    "for i in tqdm(range(20000)):\n",
    "    movie = movie.append(get_daum(code[i]))"
   ]
  },
  {
   "cell_type": "code",
   "execution_count": 27,
   "metadata": {},
   "outputs": [],
   "source": [
    "movie.to_csv(\"daum_code.csv\", index = False)"
   ]
  },
  {
   "cell_type": "code",
   "execution_count": 29,
   "metadata": {},
   "outputs": [
    {
     "name": "stderr",
     "output_type": "stream",
     "text": [
      "100%|██████████████████████████████████████████████████████████████████████████████| 9182/9182 [32:37<00:00,  4.69it/s]\n"
     ]
    }
   ],
   "source": [
    "for i in tqdm(range(30818, 40000)):\n",
    "    try:\n",
    "        movie = movie.append(get_daum(code[i]))\n",
    "    except AttributeError:\n",
    "        pass\n",
    "    "
   ]
  },
  {
   "cell_type": "code",
   "execution_count": 30,
   "metadata": {},
   "outputs": [],
   "source": [
    "movie.to_csv(\"daum_code.csv\", index = False)"
   ]
  },
  {
   "cell_type": "code",
   "execution_count": 31,
   "metadata": {},
   "outputs": [
    {
     "name": "stderr",
     "output_type": "stream",
     "text": [
      "100%|████████████████████████████████████████████████████████████████████████████| 15617/15617 [56:11<00:00,  4.63it/s]\n"
     ]
    }
   ],
   "source": [
    "for i in tqdm(range(44383, 60000)):\n",
    "    movie = movie.append(get_daum(code[i]))"
   ]
  },
  {
   "cell_type": "code",
   "execution_count": 32,
   "metadata": {},
   "outputs": [],
   "source": [
    "movie.to_csv(\"daum_code.csv\", index = False)"
   ]
  },
  {
   "cell_type": "code",
   "execution_count": 33,
   "metadata": {},
   "outputs": [
    {
     "name": "stderr",
     "output_type": "stream",
     "text": [
      "100%|██████████████████████████████████████████████████████████████████████████| 20000/20000 [1:11:08<00:00,  4.69it/s]\n"
     ]
    }
   ],
   "source": [
    "for i in tqdm(range(60000, 80000)):\n",
    "    movie = movie.append(get_daum(code[i]))"
   ]
  },
  {
   "cell_type": "code",
   "execution_count": 34,
   "metadata": {},
   "outputs": [],
   "source": [
    "movie.to_csv(\"daum_code.csv\", index = False)"
   ]
  },
  {
   "cell_type": "code",
   "execution_count": 35,
   "metadata": {},
   "outputs": [
    {
     "name": "stderr",
     "output_type": "stream",
     "text": [
      "100%|██████████████████████████████████████████████████████████████████████████| 20000/20000 [1:13:00<00:00,  4.57it/s]\n"
     ]
    }
   ],
   "source": [
    "for i in tqdm(range(80000, 100000)):\n",
    "    movie = movie.append(get_daum(code[i]))"
   ]
  },
  {
   "cell_type": "code",
   "execution_count": 36,
   "metadata": {},
   "outputs": [],
   "source": [
    "movie.to_csv(\"daum_code.csv\", index = False)"
   ]
  },
  {
   "cell_type": "code",
   "execution_count": 37,
   "metadata": {},
   "outputs": [
    {
     "name": "stderr",
     "output_type": "stream",
     "text": [
      "100%|██████████████████████████████████████████████████████████████████████████| 45475/45475 [2:55:17<00:00,  4.32it/s]\n"
     ]
    }
   ],
   "source": [
    "for i in tqdm(range(80000, len(code))):\n",
    "    movie = movie.append(get_daum(code[i]))"
   ]
  },
  {
   "cell_type": "code",
   "execution_count": 38,
   "metadata": {},
   "outputs": [],
   "source": [
    "movie.to_csv(\"daum_code.csv\", index = False)"
   ]
  },
  {
   "cell_type": "code",
   "execution_count": 40,
   "metadata": {},
   "outputs": [
    {
     "data": {
      "text/html": [
       "<div>\n",
       "<style scoped>\n",
       "    .dataframe tbody tr th:only-of-type {\n",
       "        vertical-align: middle;\n",
       "    }\n",
       "\n",
       "    .dataframe tbody tr th {\n",
       "        vertical-align: top;\n",
       "    }\n",
       "\n",
       "    .dataframe thead th {\n",
       "        text-align: right;\n",
       "    }\n",
       "</style>\n",
       "<table border=\"1\" class=\"dataframe\">\n",
       "  <thead>\n",
       "    <tr style=\"text-align: right;\">\n",
       "      <th></th>\n",
       "      <th>영화코드</th>\n",
       "      <th>제목</th>\n",
       "    </tr>\n",
       "  </thead>\n",
       "  <tbody>\n",
       "    <tr>\n",
       "      <th>0</th>\n",
       "      <td>1</td>\n",
       "      <td>플란다스의 개(2000)</td>\n",
       "    </tr>\n",
       "    <tr>\n",
       "      <th>0</th>\n",
       "      <td>2</td>\n",
       "      <td>카라(1999)</td>\n",
       "    </tr>\n",
       "    <tr>\n",
       "      <th>0</th>\n",
       "      <td>3</td>\n",
       "      <td>주노명 베이커리(2000)</td>\n",
       "    </tr>\n",
       "    <tr>\n",
       "      <th>0</th>\n",
       "      <td>4</td>\n",
       "      <td>여고괴담 두번째 이야기(1999)</td>\n",
       "    </tr>\n",
       "    <tr>\n",
       "      <th>0</th>\n",
       "      <td>5</td>\n",
       "      <td>행복한 장의사(2000)</td>\n",
       "    </tr>\n",
       "    <tr>\n",
       "      <th>...</th>\n",
       "      <td>...</td>\n",
       "      <td>...</td>\n",
       "    </tr>\n",
       "    <tr>\n",
       "      <th>0</th>\n",
       "      <td>145294</td>\n",
       "      <td>데빌 인사이드 미(2019)</td>\n",
       "    </tr>\n",
       "    <tr>\n",
       "      <th>0</th>\n",
       "      <td>145295</td>\n",
       "      <td>보이스(2020)</td>\n",
       "    </tr>\n",
       "    <tr>\n",
       "      <th>0</th>\n",
       "      <td>145296</td>\n",
       "      <td>드라이브: 분노의 질주(2019)</td>\n",
       "    </tr>\n",
       "    <tr>\n",
       "      <th>0</th>\n",
       "      <td>145297</td>\n",
       "      <td>해피 데스데이: 악마의 큐피드(2020)</td>\n",
       "    </tr>\n",
       "    <tr>\n",
       "      <th>0</th>\n",
       "      <td>145298</td>\n",
       "      <td>더 비 지스: 하우 캔 유 멘드 어 브로큰 하트(2020)</td>\n",
       "    </tr>\n",
       "  </tbody>\n",
       "</table>\n",
       "<p>141092 rows × 2 columns</p>\n",
       "</div>"
      ],
      "text/plain": [
       "      영화코드                                제목\n",
       "0        1                     플란다스의 개(2000)\n",
       "0        2                          카라(1999)\n",
       "0        3                    주노명 베이커리(2000)\n",
       "0        4                여고괴담 두번째 이야기(1999)\n",
       "0        5                     행복한 장의사(2000)\n",
       "..     ...                               ...\n",
       "0   145294                   데빌 인사이드 미(2019)\n",
       "0   145295                         보이스(2020)\n",
       "0   145296                드라이브: 분노의 질주(2019)\n",
       "0   145297            해피 데스데이: 악마의 큐피드(2020)\n",
       "0   145298  더 비 지스: 하우 캔 유 멘드 어 브로큰 하트(2020)\n",
       "\n",
       "[141092 rows x 2 columns]"
      ]
     },
     "execution_count": 40,
     "metadata": {},
     "output_type": "execute_result"
    }
   ],
   "source": [
    "movie"
   ]
  },
  {
   "cell_type": "code",
   "execution_count": null,
   "metadata": {},
   "outputs": [],
   "source": []
  }
 ],
 "metadata": {
  "kernelspec": {
   "display_name": "Python 3",
   "language": "python",
   "name": "python3"
  },
  "language_info": {
   "codemirror_mode": {
    "name": "ipython",
    "version": 3
   },
   "file_extension": ".py",
   "mimetype": "text/x-python",
   "name": "python",
   "nbconvert_exporter": "python",
   "pygments_lexer": "ipython3",
   "version": "3.7.7"
  }
 },
 "nbformat": 4,
 "nbformat_minor": 4
}
