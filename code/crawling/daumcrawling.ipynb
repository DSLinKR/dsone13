{
 "cells": [
  {
   "cell_type": "code",
   "execution_count": 1,
   "metadata": {
    "ExecuteTime": {
     "end_time": "2020-11-28T12:22:33.469779Z",
     "start_time": "2020-11-28T12:22:33.214820Z"
    },
    "id": "Z7_vyr9OD5P1"
   },
   "outputs": [],
   "source": [
    "import requests\n",
    "from bs4 import BeautifulSoup as bs\n",
    "import re\n",
    "import pandas as pd\n",
    "import numpy as np\n",
    "import json"
   ]
  },
  {
   "cell_type": "code",
   "execution_count": 2,
   "metadata": {
    "ExecuteTime": {
     "end_time": "2020-11-28T12:22:58.630330Z",
     "start_time": "2020-11-28T12:22:58.534738Z"
    }
   },
   "outputs": [],
   "source": [
    "url = 'https://movie.daum.net/moviedb/main?movieId={}'.format(79524)\n",
    "resp = requests.get(url)"
   ]
  },
  {
   "cell_type": "code",
   "execution_count": 3,
   "metadata": {
    "ExecuteTime": {
     "end_time": "2020-11-28T12:23:03.730994Z",
     "start_time": "2020-11-28T12:23:03.692550Z"
    }
   },
   "outputs": [],
   "source": [
    "soup = bs(resp.text, 'html.parser')"
   ]
  },
  {
   "cell_type": "code",
   "execution_count": 8,
   "metadata": {
    "ExecuteTime": {
     "end_time": "2020-11-28T12:24:40.884984Z",
     "start_time": "2020-11-28T12:24:40.874424Z"
    }
   },
   "outputs": [],
   "source": [
    "title_tag = soup.select_one('h2.tit_rel')"
   ]
  },
  {
   "cell_type": "code",
   "execution_count": 11,
   "metadata": {
    "ExecuteTime": {
     "end_time": "2020-11-28T12:25:18.827033Z",
     "start_time": "2020-11-28T12:25:18.824923Z"
    }
   },
   "outputs": [],
   "source": [
    "def scripts(x):\n",
    "    for i in x:\n",
    "        return i"
   ]
  },
  {
   "cell_type": "code",
   "execution_count": 13,
   "metadata": {
    "ExecuteTime": {
     "end_time": "2020-11-28T12:25:36.168966Z",
     "start_time": "2020-11-28T12:25:36.163340Z"
    }
   },
   "outputs": [],
   "source": [
    "script = soup.find('script')"
   ]
  },
  {
   "cell_type": "code",
   "execution_count": 14,
   "metadata": {
    "ExecuteTime": {
     "end_time": "2020-11-28T12:25:36.762435Z",
     "start_time": "2020-11-28T12:25:36.755244Z"
    }
   },
   "outputs": [],
   "source": [
    "sc = scripts(script)\n",
    "\n",
    "jsc = json.loads(sc)\n",
    "\n",
    "rv = jsc[\"ratingValue\"]\n",
    "rc = jsc[\"ratingCount\"]\n",
    "date = jsc['itemReviewed']['dateCreated']"
   ]
  },
  {
   "cell_type": "code",
   "execution_count": 18,
   "metadata": {
    "ExecuteTime": {
     "end_time": "2020-11-28T12:25:57.689486Z",
     "start_time": "2020-11-28T12:25:57.677521Z"
    }
   },
   "outputs": [
    {
     "data": {
      "text/plain": [
       "{'@context': 'https://schema.org/',\n",
       " '@type': 'AggregateRating',\n",
       " 'itemReviewed': {'@type': 'Movie',\n",
       "  'name': '',\n",
       "  'image': 'http://cfile17.uf.daum.net/image/271C5E5053C330DB2A6B1E',\n",
       "  'director': {'@type': 'Person', 'name': '심성보'},\n",
       "  'duration': 'PT111M',\n",
       "  'dateCreated': '2014-08-13',\n",
       "  'countryOfOrigin': {'@type': 'Country', 'name': '한국'}},\n",
       " 'ratingValue': '7.3',\n",
       " 'bestRating': '10',\n",
       " 'worstRating': '0',\n",
       " 'ratingCount': '',\n",
       " 'reviewCount': ''}"
      ]
     },
     "execution_count": 18,
     "metadata": {},
     "output_type": "execute_result"
    }
   ],
   "source": [
    "jsc"
   ]
  },
  {
   "cell_type": "code",
   "execution_count": 15,
   "metadata": {
    "ExecuteTime": {
     "end_time": "2020-11-28T12:25:39.889773Z",
     "start_time": "2020-11-28T12:25:39.880416Z"
    }
   },
   "outputs": [],
   "source": [
    "title = title_tag.get_text()\n",
    "\n",
    "entitle = soup.find('span', {'class' : 'txt_origin'})\n",
    "        \n",
    "entitle = entitle.get_text()\n",
    "\n",
    "info = soup.select('dd')\n",
    "\n",
    "genre = info[0].text\n",
    "\n",
    "nation = info[1].text\n",
    "\n",
    "df = pd.DataFrame([79524, title, entitle,  date, nation, genre, rv, rc])\n",
    "\n",
    "df = df.transpose()"
   ]
  },
  {
   "cell_type": "code",
   "execution_count": 17,
   "metadata": {
    "ExecuteTime": {
     "end_time": "2020-11-28T12:25:43.769599Z",
     "start_time": "2020-11-28T12:25:43.745666Z"
    }
   },
   "outputs": [
    {
     "data": {
      "text/html": [
       "<div>\n",
       "<style scoped>\n",
       "    .dataframe tbody tr th:only-of-type {\n",
       "        vertical-align: middle;\n",
       "    }\n",
       "\n",
       "    .dataframe tbody tr th {\n",
       "        vertical-align: top;\n",
       "    }\n",
       "\n",
       "    .dataframe thead th {\n",
       "        text-align: right;\n",
       "    }\n",
       "</style>\n",
       "<table border=\"1\" class=\"dataframe\">\n",
       "  <thead>\n",
       "    <tr style=\"text-align: right;\">\n",
       "      <th></th>\n",
       "      <th>0</th>\n",
       "      <th>1</th>\n",
       "      <th>2</th>\n",
       "      <th>3</th>\n",
       "      <th>4</th>\n",
       "      <th>5</th>\n",
       "      <th>6</th>\n",
       "      <th>7</th>\n",
       "    </tr>\n",
       "  </thead>\n",
       "  <tbody>\n",
       "    <tr>\n",
       "      <th>0</th>\n",
       "      <td>79524</td>\n",
       "      <td>해무</td>\n",
       "      <td>Haemoo, 海霧</td>\n",
       "      <td>2014-08-13</td>\n",
       "      <td>한국</td>\n",
       "      <td>드라마</td>\n",
       "      <td>7.3</td>\n",
       "      <td></td>\n",
       "    </tr>\n",
       "  </tbody>\n",
       "</table>\n",
       "</div>"
      ],
      "text/plain": [
       "       0   1           2           3   4    5    6 7\n",
       "0  79524  해무  Haemoo, 海霧  2014-08-13  한국  드라마  7.3  "
      ]
     },
     "execution_count": 17,
     "metadata": {},
     "output_type": "execute_result"
    }
   ],
   "source": [
    "df"
   ]
  },
  {
   "cell_type": "code",
   "execution_count": null,
   "metadata": {},
   "outputs": [],
   "source": []
  },
  {
   "cell_type": "code",
   "execution_count": null,
   "metadata": {},
   "outputs": [],
   "source": []
  },
  {
   "cell_type": "code",
   "execution_count": null,
   "metadata": {},
   "outputs": [],
   "source": []
  },
  {
   "cell_type": "code",
   "execution_count": null,
   "metadata": {},
   "outputs": [],
   "source": []
  },
  {
   "cell_type": "code",
   "execution_count": 30,
   "metadata": {
    "id": "A0qKXA8oD97q"
   },
   "outputs": [],
   "source": [
    "def get_daum(movie_id): \n",
    "    url = 'https://movie.daum.net/moviedb/main?movieId={}'.format(movie_id)\n",
    "    resp = requests.get(url)\n",
    "     \n",
    "    soup = bs(resp.text, 'html.parser')\n",
    "     \n",
    "    title_tag = soup.select_one('h2.tit_rel')\n",
    "\n",
    "    if type(title_tag) != 'NoneType':\n",
    "    \n",
    "        title = title_tag.get_text()\n",
    "     \n",
    "        script = soup.find('script')\n",
    "    \n",
    "        def scripts(x):\n",
    "            for i in x:\n",
    "                return i\n",
    "    \n",
    "        sc = scripts(script)\n",
    "    \n",
    "        jsc = json.loads(sc)\n",
    "    \n",
    "        rv = jsc[\"ratingValue\"]\n",
    "        rc = jsc[\"ratingCount\"]\n",
    "        date = jsc['itemReviewed']['dateCreated']\n",
    "        \n",
    "\n",
    "        entitle = soup.find('span', {'class' : 'txt_origin'})\n",
    "        \n",
    "        entitle = entitle.get_text()\n",
    "        \n",
    "        info = soup.select('dd')\n",
    "        \n",
    "        genre = info[0].text\n",
    "        \n",
    "        nation = info[1].text\n",
    "\n",
    "        df = pd.DataFrame([movie_id, title, entitle,  date, nation, genre, rv, rc])\n",
    "    \n",
    "        df = df.transpose()\n",
    "    \n",
    "    \n",
    "        df.columns = [\"영화코드\", \"제목\",\"영어제목\", \"개봉일\", \"국가\" , \"장르\", \"별점\", \"네티즌수\"]\n",
    "    \n",
    "        return df   "
   ]
  },
  {
   "cell_type": "code",
   "execution_count": 31,
   "metadata": {
    "id": "Rdmo_9tdF4WH"
   },
   "outputs": [],
   "source": [
    "import time\n",
    "from tqdm import tqdm"
   ]
  },
  {
   "cell_type": "code",
   "execution_count": 32,
   "metadata": {
    "colab": {
     "base_uri": "https://localhost:8080/",
     "height": 1000
    },
    "id": "74EuN5ztGIre",
    "outputId": "67045483-cf55-4cbb-d6bc-91b9f49a43fa"
   },
   "outputs": [
    {
     "name": "stderr",
     "output_type": "stream",
     "text": [
      "100%|██████████████████████████████████████████████████████████████████████████| 20000/20000 [1:10:07<00:00,  4.75it/s]\n"
     ]
    }
   ],
   "source": [
    "movie = pd.DataFrame()\n",
    "for i in tqdm(range(20000)):\n",
    "    try:\n",
    "        movie = movie.append(get_daum(i+1))\n",
    "    except AttributeError:\n",
    "        pass\n",
    "    except requests.ConnectionError:\n",
    "        pass\n",
    "    except TimeoutError:\n",
    "        pass\n",
    "    except KeyError:\n",
    "        pass\n",
    "    except IndexError:\n",
    "        pass"
   ]
  },
  {
   "cell_type": "code",
   "execution_count": 33,
   "metadata": {
    "colab": {
     "base_uri": "https://localhost:8080/",
     "height": 170
    },
    "id": "AXQJv-tCH_vT",
    "outputId": "9e6c1324-8227-405c-9947-a7e50f2c6b36"
   },
   "outputs": [],
   "source": [
    "movie.to_csv(\"daum_code.csv\", index = False)"
   ]
  },
  {
   "cell_type": "code",
   "execution_count": 34,
   "metadata": {
    "id": "PdJMgrdfIBRJ",
    "scrolled": true
   },
   "outputs": [
    {
     "name": "stderr",
     "output_type": "stream",
     "text": [
      "100%|██████████████████████████████████████████████████████████████████████████| 20000/20000 [1:23:03<00:00,  4.01it/s]\n"
     ]
    }
   ],
   "source": [
    "for i in tqdm(range(20000, 40000)):\n",
    "    try:\n",
    "        movie = movie.append(get_daum(i+1))\n",
    "    except AttributeError:\n",
    "        pass\n",
    "    except requests.ConnectionError:\n",
    "        pass\n",
    "    except TimeoutError:\n",
    "        pass\n",
    "    except KeyError:\n",
    "        pass\n",
    "    except IndexError:\n",
    "        pass"
   ]
  },
  {
   "cell_type": "code",
   "execution_count": 35,
   "metadata": {},
   "outputs": [],
   "source": [
    "movie.to_csv(\"daum_movie.csv\", index = False)"
   ]
  },
  {
   "cell_type": "code",
   "execution_count": 36,
   "metadata": {},
   "outputs": [
    {
     "name": "stderr",
     "output_type": "stream",
     "text": [
      "100%|██████████████████████████████████████████████████████████████████████████| 20000/20000 [1:44:12<00:00,  3.20it/s]\n"
     ]
    }
   ],
   "source": [
    "for i in tqdm(range(40000, 60000)):\n",
    "    try:\n",
    "        movie = movie.append(get_daum(i+1))\n",
    "    except AttributeError:\n",
    "        pass\n",
    "    except requests.ConnectionError:\n",
    "        pass\n",
    "    except TimeoutError:\n",
    "        pass\n",
    "    except KeyError:\n",
    "        pass\n",
    "    except IndexError:\n",
    "        pass"
   ]
  },
  {
   "cell_type": "code",
   "execution_count": 37,
   "metadata": {},
   "outputs": [],
   "source": [
    "movie.to_csv(\"daum_movie.csv\", index = False)"
   ]
  },
  {
   "cell_type": "code",
   "execution_count": 38,
   "metadata": {},
   "outputs": [
    {
     "name": "stderr",
     "output_type": "stream",
     "text": [
      "100%|██████████████████████████████████████████████████████████████████████████| 20000/20000 [1:53:39<00:00,  2.93it/s]\n"
     ]
    }
   ],
   "source": [
    "for i in tqdm(range(60000, 80000)):\n",
    "    try:\n",
    "        movie = movie.append(get_daum(i+1))\n",
    "    except AttributeError:\n",
    "        pass\n",
    "    except requests.ConnectionError:\n",
    "        pass\n",
    "    except TimeoutError:\n",
    "        pass\n",
    "    except KeyError:\n",
    "        pass\n",
    "    except IndexError:\n",
    "        pass"
   ]
  },
  {
   "cell_type": "code",
   "execution_count": 39,
   "metadata": {},
   "outputs": [],
   "source": [
    "movie.to_csv(\"daum_movie.csv\", index = False)"
   ]
  },
  {
   "cell_type": "code",
   "execution_count": 40,
   "metadata": {},
   "outputs": [
    {
     "name": "stderr",
     "output_type": "stream",
     "text": [
      "100%|██████████████████████████████████████████████████████████████████████████| 20000/20000 [1:52:12<00:00,  2.97it/s]\n"
     ]
    }
   ],
   "source": [
    "for i in tqdm(range(80000, 100000)):\n",
    "    try:\n",
    "        movie = movie.append(get_daum(i+1))\n",
    "    except AttributeError:\n",
    "        pass\n",
    "    except requests.ConnectionError:\n",
    "        pass\n",
    "    except TimeoutError:\n",
    "        pass\n",
    "    except KeyError:\n",
    "        pass\n",
    "    except IndexError:\n",
    "        pass"
   ]
  },
  {
   "cell_type": "code",
   "execution_count": 41,
   "metadata": {},
   "outputs": [],
   "source": [
    "movie.to_csv(\"daum_movie.csv\", index = False)"
   ]
  },
  {
   "cell_type": "code",
   "execution_count": 42,
   "metadata": {},
   "outputs": [
    {
     "name": "stderr",
     "output_type": "stream",
     "text": [
      "100%|██████████████████████████████████████████████████████████████████████████| 20000/20000 [1:54:22<00:00,  2.91it/s]\n"
     ]
    }
   ],
   "source": [
    "for i in tqdm(range(100000, 120000)):\n",
    "    try:\n",
    "        movie = movie.append(get_daum(i+1))\n",
    "    except AttributeError:\n",
    "        pass\n",
    "    except requests.ConnectionError:\n",
    "        pass\n",
    "    except TimeoutError:\n",
    "        pass\n",
    "    except KeyError:\n",
    "        pass\n",
    "    except IndexError:\n",
    "        pass"
   ]
  },
  {
   "cell_type": "code",
   "execution_count": 43,
   "metadata": {},
   "outputs": [],
   "source": [
    "movie.to_csv(\"daum_movie.csv\", index = False)"
   ]
  },
  {
   "cell_type": "code",
   "execution_count": 44,
   "metadata": {},
   "outputs": [
    {
     "name": "stderr",
     "output_type": "stream",
     "text": [
      "100%|██████████████████████████████████████████████████████████████████████████| 20000/20000 [1:52:52<00:00,  2.95it/s]\n"
     ]
    }
   ],
   "source": [
    "for i in tqdm(range(120000, 140000)):\n",
    "    try:\n",
    "        movie = movie.append(get_daum(i+1))\n",
    "    except AttributeError:\n",
    "        pass\n",
    "    except requests.ConnectionError:\n",
    "        pass\n",
    "    except TimeoutError:\n",
    "        pass\n",
    "    except KeyError:\n",
    "        pass\n",
    "    except IndexError:\n",
    "        pass"
   ]
  },
  {
   "cell_type": "code",
   "execution_count": 45,
   "metadata": {},
   "outputs": [],
   "source": [
    "movie.to_csv(\"daum_movie.csv\", index = False)"
   ]
  },
  {
   "cell_type": "code",
   "execution_count": 46,
   "metadata": {},
   "outputs": [
    {
     "name": "stderr",
     "output_type": "stream",
     "text": [
      "100%|██████████████████████████████████████████████████████████████████████████████| 5298/5298 [29:33<00:00,  2.99it/s]\n"
     ]
    }
   ],
   "source": [
    "for i in tqdm(range(140000, 145298)):\n",
    "    try:\n",
    "        movie = movie.append(get_daum(i+1))\n",
    "    except AttributeError:\n",
    "        pass\n",
    "    except requests.ConnectionError:\n",
    "        pass\n",
    "    except TimeoutError:\n",
    "        pass\n",
    "    except KeyError:\n",
    "        pass\n",
    "    except IndexError:\n",
    "        pass"
   ]
  },
  {
   "cell_type": "code",
   "execution_count": 47,
   "metadata": {},
   "outputs": [],
   "source": [
    "movie.to_csv(\"daum_movie.csv\", index = False)"
   ]
  },
  {
   "cell_type": "code",
   "execution_count": null,
   "metadata": {},
   "outputs": [],
   "source": []
  },
  {
   "cell_type": "code",
   "execution_count": null,
   "metadata": {},
   "outputs": [],
   "source": []
  }
 ],
 "metadata": {
  "colab": {
   "collapsed_sections": [],
   "name": "daumcrawling.ipynb",
   "provenance": []
  },
  "kernelspec": {
   "display_name": "Python 3",
   "language": "python",
   "name": "python3"
  },
  "language_info": {
   "codemirror_mode": {
    "name": "ipython",
    "version": 3
   },
   "file_extension": ".py",
   "mimetype": "text/x-python",
   "name": "python",
   "nbconvert_exporter": "python",
   "pygments_lexer": "ipython3",
   "version": "3.7.7"
  },
  "toc": {
   "base_numbering": 1,
   "nav_menu": {},
   "number_sections": true,
   "sideBar": true,
   "skip_h1_title": false,
   "title_cell": "Table of Contents",
   "title_sidebar": "Contents",
   "toc_cell": false,
   "toc_position": {},
   "toc_section_display": true,
   "toc_window_display": false
  }
 },
 "nbformat": 4,
 "nbformat_minor": 1
}
