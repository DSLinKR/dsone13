{
 "cells": [
  {
   "cell_type": "code",
   "execution_count": 1,
   "metadata": {
    "id": "Z7_vyr9OD5P1"
   },
   "outputs": [],
   "source": [
    "import requests\n",
    "from bs4 import BeautifulSoup as bs\n",
    "import re\n",
    "import pandas as pd\n",
    "import numpy as np\n",
    "import json"
   ]
  },
  {
   "cell_type": "code",
   "execution_count": 2,
   "metadata": {
    "id": "A0qKXA8oD97q"
   },
   "outputs": [],
   "source": [
    "def get_daum(movie_id): \n",
    "    url = 'https://movie.daum.net/moviedb/main?movieId={}'.format(movie_id)\n",
    "    resp = requests.get(url)\n",
    "     \n",
    "    soup = bs(resp.text, 'html.parser')\n",
    "     \n",
    "    title_tag = soup.select_one('h2.tit_rel')\n",
    "\n",
    "    if type(title_tag) != 'NoneType':\n",
    "    \n",
    "        title = title_tag.get_text()\n",
    "     \n",
    "        script = soup.find('script')\n",
    "    \n",
    "        def scripts(x):\n",
    "            for i in x:\n",
    "                return i\n",
    "    \n",
    "        sc = scripts(script)\n",
    "    \n",
    "        jsc = json.loads(sc)\n",
    "    \n",
    "        rv = jsc[\"ratingValue\"]\n",
    "        rc = jsc[\"ratingCount\"]\n",
    "        date = jsc['itemReviewed']['dateCreated']\n",
    "        \n",
    "        info = soup.select('dd')\n",
    "        \n",
    "        if type(info) != 'NoneType':\n",
    "            genre = info[0].text\n",
    "        \n",
    "            nation = info[1].text\n",
    "        \n",
    "        \n",
    "    \n",
    "            if rc != '0':\n",
    "                df = pd.DataFrame([title, date, nation, genre, rv, rc])\n",
    "    \n",
    "                df = df.transpose()\n",
    "    \n",
    "    \n",
    "                df.columns = [\"제목\",\"개봉일\", \"국가\" , \"장르\", \"별점\", \"네티즌수\"]\n",
    "    \n",
    "                return df   "
   ]
  },
  {
   "cell_type": "code",
   "execution_count": 3,
   "metadata": {
    "id": "Rdmo_9tdF4WH"
   },
   "outputs": [],
   "source": [
    "import time\n",
    "from tqdm import tqdm"
   ]
  },
  {
   "cell_type": "code",
   "execution_count": 4,
   "metadata": {
    "colab": {
     "base_uri": "https://localhost:8080/",
     "height": 1000
    },
    "id": "74EuN5ztGIre",
    "outputId": "67045483-cf55-4cbb-d6bc-91b9f49a43fa"
   },
   "outputs": [
    {
     "name": "stderr",
     "output_type": "stream",
     "text": [
      "100%|████████████████████████████████████████████████████████████████████████████| 20000/20000 [30:43<00:00, 10.85it/s]\n"
     ]
    }
   ],
   "source": [
    "movie = pd.DataFrame()\n",
    "for i in tqdm(range(20000)):\n",
    "    try:\n",
    "        movie = movie.append(get_daum(i+1))\n",
    "    except AttributeError:\n",
    "        pass\n",
    "    except requests.ConnectionError:\n",
    "        pass\n",
    "    except TimeoutError:\n",
    "        pass\n",
    "    except KeyError:\n",
    "        pass"
   ]
  },
  {
   "cell_type": "code",
   "execution_count": 5,
   "metadata": {
    "colab": {
     "base_uri": "https://localhost:8080/",
     "height": 170
    },
    "id": "AXQJv-tCH_vT",
    "outputId": "9e6c1324-8227-405c-9947-a7e50f2c6b36"
   },
   "outputs": [],
   "source": [
    "movie.to_csv(\"daum_movie.csv\", index = False)"
   ]
  },
  {
   "cell_type": "code",
   "execution_count": 4,
   "metadata": {},
   "outputs": [],
   "source": [
    "movie = pd.read_csv(\"daum_movie.csv\")"
   ]
  },
  {
   "cell_type": "code",
   "execution_count": 8,
   "metadata": {
    "id": "PdJMgrdfIBRJ",
    "scrolled": true
   },
   "outputs": [
    {
     "name": "stderr",
     "output_type": "stream",
     "text": [
      "100%|██████████████████████████████████████████████████████████████████████████| 20000/20000 [1:21:34<00:00,  4.09it/s]\n"
     ]
    }
   ],
   "source": [
    "for i in tqdm(range(20000, 40000)):\n",
    "    try:\n",
    "        movie = movie.append(get_daum(i+1))\n",
    "    except AttributeError:\n",
    "        pass\n",
    "    except requests.ConnectionError:\n",
    "        pass\n",
    "    except TimeoutError:\n",
    "        pass\n",
    "    except KeyError:\n",
    "        pass\n",
    "    except IndexError:\n",
    "        pass"
   ]
  },
  {
   "cell_type": "code",
   "execution_count": 9,
   "metadata": {},
   "outputs": [],
   "source": [
    "movie.to_csv(\"daum_movie.csv\", index = False)"
   ]
  },
  {
   "cell_type": "code",
   "execution_count": 10,
   "metadata": {},
   "outputs": [
    {
     "name": "stderr",
     "output_type": "stream",
     "text": [
      "100%|██████████████████████████████████████████████████████████████████████████| 20000/20000 [1:37:11<00:00,  3.43it/s]\n"
     ]
    }
   ],
   "source": [
    "for i in tqdm(range(40000, 60000)):\n",
    "    try:\n",
    "        movie = movie.append(get_daum(i+1))\n",
    "    except AttributeError:\n",
    "        pass\n",
    "    except requests.ConnectionError:\n",
    "        pass\n",
    "    except TimeoutError:\n",
    "        pass\n",
    "    except KeyError:\n",
    "        pass\n",
    "    except IndexError:\n",
    "        pass"
   ]
  },
  {
   "cell_type": "code",
   "execution_count": 11,
   "metadata": {},
   "outputs": [],
   "source": [
    "movie.to_csv(\"daum_movie.csv\", index = False)"
   ]
  },
  {
   "cell_type": "code",
   "execution_count": 12,
   "metadata": {},
   "outputs": [
    {
     "name": "stderr",
     "output_type": "stream",
     "text": [
      "100%|██████████████████████████████████████████████████████████████████████████| 20000/20000 [1:40:24<00:00,  3.32it/s]\n"
     ]
    }
   ],
   "source": [
    "for i in tqdm(range(60000, 80000)):\n",
    "    try:\n",
    "        movie = movie.append(get_daum(i+1))\n",
    "    except AttributeError:\n",
    "        pass\n",
    "    except requests.ConnectionError:\n",
    "        pass\n",
    "    except TimeoutError:\n",
    "        pass\n",
    "    except KeyError:\n",
    "        pass\n",
    "    except IndexError:\n",
    "        pass"
   ]
  },
  {
   "cell_type": "code",
   "execution_count": 13,
   "metadata": {},
   "outputs": [],
   "source": [
    "movie.to_csv(\"daum_movie.csv\", index = False)"
   ]
  },
  {
   "cell_type": "code",
   "execution_count": 14,
   "metadata": {},
   "outputs": [
    {
     "name": "stderr",
     "output_type": "stream",
     "text": [
      "100%|██████████████████████████████████████████████████████████████████████████| 20000/20000 [1:40:51<00:00,  3.30it/s]\n"
     ]
    }
   ],
   "source": [
    "for i in tqdm(range(80000, 100000)):\n",
    "    try:\n",
    "        movie = movie.append(get_daum(i+1))\n",
    "    except AttributeError:\n",
    "        pass\n",
    "    except requests.ConnectionError:\n",
    "        pass\n",
    "    except TimeoutError:\n",
    "        pass\n",
    "    except KeyError:\n",
    "        pass\n",
    "    except IndexError:\n",
    "        pass"
   ]
  },
  {
   "cell_type": "code",
   "execution_count": 15,
   "metadata": {},
   "outputs": [],
   "source": [
    "movie.to_csv(\"daum_movie.csv\", index = False)"
   ]
  },
  {
   "cell_type": "code",
   "execution_count": 16,
   "metadata": {},
   "outputs": [
    {
     "name": "stderr",
     "output_type": "stream",
     "text": [
      "100%|██████████████████████████████████████████████████████████████████████████| 20000/20000 [1:40:44<00:00,  3.31it/s]\n"
     ]
    }
   ],
   "source": [
    "for i in tqdm(range(100000, 120000)):\n",
    "    try:\n",
    "        movie = movie.append(get_daum(i+1))\n",
    "    except AttributeError:\n",
    "        pass\n",
    "    except requests.ConnectionError:\n",
    "        pass\n",
    "    except TimeoutError:\n",
    "        pass\n",
    "    except KeyError:\n",
    "        pass\n",
    "    except IndexError:\n",
    "        pass"
   ]
  },
  {
   "cell_type": "code",
   "execution_count": 17,
   "metadata": {},
   "outputs": [],
   "source": [
    "movie.to_csv(\"daum_movie.csv\", index = False)"
   ]
  },
  {
   "cell_type": "code",
   "execution_count": 18,
   "metadata": {},
   "outputs": [
    {
     "name": "stderr",
     "output_type": "stream",
     "text": [
      "100%|██████████████████████████████████████████████████████████████████████████| 20000/20000 [1:40:01<00:00,  3.33it/s]\n"
     ]
    }
   ],
   "source": [
    "for i in tqdm(range(120000, 140000)):\n",
    "    try:\n",
    "        movie = movie.append(get_daum(i+1))\n",
    "    except AttributeError:\n",
    "        pass\n",
    "    except requests.ConnectionError:\n",
    "        pass\n",
    "    except TimeoutError:\n",
    "        pass\n",
    "    except KeyError:\n",
    "        pass\n",
    "    except IndexError:\n",
    "        pass"
   ]
  },
  {
   "cell_type": "code",
   "execution_count": 19,
   "metadata": {},
   "outputs": [],
   "source": [
    "movie.to_csv(\"daum_movie.csv\", index = False)"
   ]
  },
  {
   "cell_type": "code",
   "execution_count": 5,
   "metadata": {},
   "outputs": [
    {
     "name": "stderr",
     "output_type": "stream",
     "text": [
      "100%|██████████████████████████████████████████████████████████████████████████████| 5298/5298 [28:21<00:00,  3.11it/s]\n"
     ]
    }
   ],
   "source": [
    "for i in tqdm(range(140000, 145298)):\n",
    "    try:\n",
    "        movie = movie.append(get_daum(i+1))\n",
    "    except AttributeError:\n",
    "        pass\n",
    "    except requests.ConnectionError:\n",
    "        pass\n",
    "    except TimeoutError:\n",
    "        pass\n",
    "    except KeyError:\n",
    "        pass\n",
    "    except IndexError:\n",
    "        pass"
   ]
  },
  {
   "cell_type": "code",
   "execution_count": 6,
   "metadata": {},
   "outputs": [],
   "source": [
    "movie.to_csv(\"daum_movie.csv\", index = False)"
   ]
  },
  {
   "cell_type": "code",
   "execution_count": null,
   "metadata": {},
   "outputs": [],
   "source": []
  }
 ],
 "metadata": {
  "colab": {
   "collapsed_sections": [],
   "name": "daumcrawling.ipynb",
   "provenance": []
  },
  "kernelspec": {
   "display_name": "Python 3",
   "language": "python",
   "name": "python3"
  },
  "language_info": {
   "codemirror_mode": {
    "name": "ipython",
    "version": 3
   },
   "file_extension": ".py",
   "mimetype": "text/x-python",
   "name": "python",
   "nbconvert_exporter": "python",
   "pygments_lexer": "ipython3",
   "version": "3.7.7"
  }
 },
 "nbformat": 4,
 "nbformat_minor": 1
}
