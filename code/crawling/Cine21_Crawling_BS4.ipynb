{
 "cells": [
  {
   "cell_type": "code",
   "execution_count": 1,
   "metadata": {},
   "outputs": [],
   "source": [
    "import requests\n",
    "from bs4 import BeautifulSoup\n",
    "import pandas as pd\n",
    "import time\n",
    "import random\n",
    "from tqdm import tqdm, tqdm_notebook\n",
    "from selenium.webdriver.common.keys import Keys"
   ]
  },
  {
   "cell_type": "code",
   "execution_count": 108,
   "metadata": {},
   "outputs": [],
   "source": [
    "session = requests.Session()"
   ]
  },
  {
   "cell_type": "code",
   "execution_count": 151,
   "metadata": {},
   "outputs": [],
   "source": [
    "headers = {\n",
    "    \"User-Agent\": \"Mozilla/5.0 (Macintosh; Intel Mac OS X 10_9_5) AppleWebKit 537.36 (KHTML, like Gecko) Chrome\",\n",
    "    \"Accept\": \"text/html,application/xhtml+xml,application/xml;q=0.9,image/webp,*/*;q=0.8\"\n",
    "}"
   ]
  },
  {
   "cell_type": "code",
   "execution_count": 115,
   "metadata": {},
   "outputs": [],
   "source": [
    "def 출연(x):\n",
    "    출연자 = [x[i].text for i in range(len(x)-1)]\n",
    "    return 출연자"
   ]
  },
  {
   "cell_type": "code",
   "execution_count": null,
   "metadata": {},
   "outputs": [],
   "source": []
  },
  {
   "cell_type": "code",
   "execution_count": 2,
   "metadata": {
    "scrolled": false
   },
   "outputs": [
    {
     "name": "stderr",
     "output_type": "stream",
     "text": [
      "C:\\Users\\reoeu\\anaconda3\\lib\\site-packages\\ipykernel_launcher.py:2: TqdmDeprecationWarning: This function will be removed in tqdm==5.0.0\n",
      "Please use `tqdm.notebook.tqdm` instead of `tqdm.tqdm_notebook`\n",
      "  \n"
     ]
    },
    {
     "data": {
      "application/vnd.jupyter.widget-view+json": {
       "model_id": "bc4e42a07e444f8191d1643d8a4d0c15",
       "version_major": 2,
       "version_minor": 0
      },
      "text/plain": [
       "HBox(children=(FloatProgress(value=0.0, max=56750.0), HTML(value='')))"
      ]
     },
     "metadata": {},
     "output_type": "display_data"
    },
    {
     "ename": "NameError",
     "evalue": "name 'session' is not defined",
     "output_type": "error",
     "traceback": [
      "\u001b[1;31m---------------------------------------------------------------------------\u001b[0m",
      "\u001b[1;31mNameError\u001b[0m                                 Traceback (most recent call last)",
      "\u001b[1;32m<ipython-input-2-1c6000778c67>\u001b[0m in \u001b[0;36m<module>\u001b[1;34m\u001b[0m\n\u001b[0;32m      3\u001b[0m \u001b[1;33m\u001b[0m\u001b[0m\n\u001b[0;32m      4\u001b[0m     \u001b[0mURL\u001b[0m \u001b[1;33m=\u001b[0m \u001b[1;34m'http://www.cine21.com/movie/info/?movie_id={}'\u001b[0m\u001b[1;33m.\u001b[0m\u001b[0mformat\u001b[0m\u001b[1;33m(\u001b[0m\u001b[0mi\u001b[0m\u001b[1;33m)\u001b[0m\u001b[1;33m\u001b[0m\u001b[1;33m\u001b[0m\u001b[0m\n\u001b[1;32m----> 5\u001b[1;33m     \u001b[0mhtml\u001b[0m \u001b[1;33m=\u001b[0m \u001b[0msession\u001b[0m\u001b[1;33m.\u001b[0m\u001b[0mget\u001b[0m\u001b[1;33m(\u001b[0m\u001b[0mURL\u001b[0m\u001b[1;33m,\u001b[0m \u001b[0mheaders\u001b[0m\u001b[1;33m=\u001b[0m\u001b[0mheaders\u001b[0m\u001b[1;33m)\u001b[0m\u001b[1;33m.\u001b[0m\u001b[0mtext\u001b[0m\u001b[1;33m\u001b[0m\u001b[1;33m\u001b[0m\u001b[0m\n\u001b[0m\u001b[0;32m      6\u001b[0m     \u001b[0msoup\u001b[0m \u001b[1;33m=\u001b[0m \u001b[0mBeautifulSoup\u001b[0m\u001b[1;33m(\u001b[0m\u001b[0mhtml\u001b[0m\u001b[1;33m,\u001b[0m \u001b[1;34m'html.parser'\u001b[0m\u001b[1;33m)\u001b[0m\u001b[1;33m\u001b[0m\u001b[1;33m\u001b[0m\u001b[0m\n\u001b[0;32m      7\u001b[0m \u001b[1;33m\u001b[0m\u001b[0m\n",
      "\u001b[1;31mNameError\u001b[0m: name 'session' is not defined"
     ]
    }
   ],
   "source": [
    "full = {}\n",
    "for i in tqdm_notebook(range(1,56751)):\n",
    "    \n",
    "    URL = 'http://www.cine21.com/movie/info/?movie_id={}'.format(i)\n",
    "    html = session.get(URL, headers=headers).text\n",
    "    soup = BeautifulSoup(html, 'html.parser')\n",
    "\n",
    "\n",
    "    try:\n",
    "        제목 = soup.select('#container > div.movie_detail_top_area > div > div > div.mov_info> p.tit')[0].text\n",
    "    except:\n",
    "        제목 = \"\"\n",
    "        \n",
    "    try:\n",
    "        연도 = soup.select('#container > div.movie_detail_top_area > div > div > div.mov_info > p:nth-child(3) > span:nth-child(1)')[0].text\n",
    "    except:\n",
    "        연도 = \"\"\n",
    "        \n",
    "    try:\n",
    "        국가 = soup.select('#container > div.movie_detail_top_area > div > div > div.mov_info > p:nth-child(3) > span:nth-child(2)')[0].text\n",
    "    except:\n",
    "        국가 = \"\"\n",
    "        \n",
    "    try:\n",
    "        등급 = soup.select('#container > div.movie_detail_top_area > div > div > div.mov_info > p:nth-child(3) > span:nth-child(3)')[0].text\n",
    "    except:\n",
    "        등급 = \"\"\n",
    "        \n",
    "    try:\n",
    "        장르 = soup.select('#container > div.movie_detail_top_area > div > div > div.mov_info > p:nth-child(4) > span:nth-child(1)')[0].text\n",
    "    except:\n",
    "        장르 = \"\"\n",
    "        \n",
    "    try:\n",
    "        상영시간 = soup.select('#container > div.movie_detail_top_area > div > div > div.mov_info > p:nth-child(4) > span:nth-child(2)')[0].text\n",
    "    except:\n",
    "        상영시간 = \"\"\n",
    "        \n",
    "    try:\n",
    "        개봉일 = soup.select('#container > div.movie_detail_top_area > div > div > div.mov_info > p:nth-child(5) > span:nth-child(1)')[0].text\n",
    "    except:\n",
    "        개봉일 = \"\"\n",
    "        \n",
    "    try:\n",
    "        누적관객 = soup.select('#container > div.movie_detail_top_area > div > div > div.mov_info > p:nth-child(5) > span:nth-child(2)')[0].text\n",
    "    except:\n",
    "        누적관객 = \"\"\n",
    "        \n",
    "    try:\n",
    "        감독 = soup.select('#container > div.movie_detail_top_area > div > div > div.mov_info > p:nth-child(6) > a')[0].text\n",
    "    except:\n",
    "        감독 = \"\"\n",
    "        \n",
    "    try:\n",
    "        출연자 = 출연(soup.select('#container > div.movie_detail_top_area > div > div > div.mov_info > p:nth-child(7) > a'))\n",
    "    except:\n",
    "        출연자 = \"\"\n",
    "        \n",
    "    try:\n",
    "        별점 = soup.select('#container > div.movie_detail_top_area > div > div > ul > li > span')[0].text\n",
    "    except:\n",
    "        별점 = \"\"\n",
    "    \n",
    "    single = {'제목':제목, '연도':연도, '국가':국가, '등급':등급, '장르':장르, '상영시간':상영시간, '개봉일':개봉일, '누적관객':누적관객, '감독':감독, \"출연자\":출연자, '별점':별점}\n",
    "    \n",
    "    full[i] = single\n",
    "    \n",
    "    rand_value = random.uniform(0, 1)\n",
    "    time.sleep(rand_value)"
   ]
  },
  {
   "cell_type": "code",
   "execution_count": null,
   "metadata": {},
   "outputs": [],
   "source": []
  }
 ],
 "metadata": {
  "kernelspec": {
   "display_name": "Python 3",
   "language": "python",
   "name": "python3"
  },
  "language_info": {
   "codemirror_mode": {
    "name": "ipython",
    "version": 3
   },
   "file_extension": ".py",
   "mimetype": "text/x-python",
   "name": "python",
   "nbconvert_exporter": "python",
   "pygments_lexer": "ipython3",
   "version": "3.7.6"
  }
 },
 "nbformat": 4,
 "nbformat_minor": 4
}
