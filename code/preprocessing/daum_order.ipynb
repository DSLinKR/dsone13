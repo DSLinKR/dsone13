{
  "nbformat": 4,
  "nbformat_minor": 0,
  "metadata": {
    "colab": {
      "name": "daum_order.ipynb",
      "provenance": [],
      "collapsed_sections": []
    },
    "kernelspec": {
      "name": "python3",
      "display_name": "Python 3"
    }
  },
  "cells": [
    {
      "cell_type": "code",
      "metadata": {
        "id": "SCP5BfjAbUgF"
      },
      "source": [
        "import pandas as pd"
      ],
      "execution_count": 2,
      "outputs": []
    },
    {
      "cell_type": "code",
      "metadata": {
        "id": "XOEARmS-a-AL"
      },
      "source": [
        "daum_movie = pd.read_csv(\"https://raw.githubusercontent.com/dhxoghks95/dsone13/master/data/daum_movie.csv\")"
      ],
      "execution_count": 8,
      "outputs": []
    },
    {
      "cell_type": "code",
      "metadata": {
        "id": "XJv01FjAbZ7Q",
        "outputId": "29ab2115-3d53-40ea-839f-aa3e66b166ad",
        "colab": {
          "base_uri": "https://localhost:8080/",
          "height": 265
        }
      },
      "source": [
        "daum_movie['total_star'] = daum_movie['별점'] * daum_movie['네티즌수']\n",
        "daum_movie.dropna(axis = 1, inplace = True)\n",
        "daum_movie.head"
      ],
      "execution_count": 10,
      "outputs": [
        {
          "output_type": "execute_result",
          "data": {
            "text/plain": [
              "<bound method NDFrame.head of                             제목      국가          장르   별점  네티즌수  total_star\n",
              "0                      플란다스의 개      한국         코미디  7.2   110       792.0\n",
              "1                           카라      한국  로맨스/멜로/판타지  6.7    21       140.7\n",
              "2                     주노명 베이커리      한국         드라마  5.8    13        75.4\n",
              "3                 여고괴담 두번째 이야기      한국          공포  8.6    67       576.2\n",
              "4                      행복한 장의사      한국         코미디  7.9    45       355.5\n",
              "...                        ...     ...         ...  ...   ...         ...\n",
              "32554                  아이를 부탁해     멕시코  코미디/로맨스/멜로  7.0     2        14.0\n",
              "32555                     올로투레   나이지리아      범죄/드라마  4.0     1         4.0\n",
              "32556             뱀파이어 vs 브롱크스      미국      코미디/공포  2.4     5        12.0\n",
              "32557                독전: 비밀의 숲      미국         스릴러  1.0     1         1.0\n",
              "32558  데이비드 애튼버러 - 우리의 지구를 위하여  미국, 영국       다큐멘터리  8.0     1         8.0\n",
              "\n",
              "[32559 rows x 6 columns]>"
            ]
          },
          "metadata": {
            "tags": []
          },
          "execution_count": 10
        }
      ]
    },
    {
      "cell_type": "code",
      "metadata": {
        "id": "Rin7yGkabwaz"
      },
      "source": [
        "daum_star = daum_movie[['제목', 'total_star', '네티즌수']]"
      ],
      "execution_count": 11,
      "outputs": []
    },
    {
      "cell_type": "code",
      "metadata": {
        "id": "112rtL0lemN8",
        "outputId": "4cd686c6-0fb3-4ef5-a5ae-71fe69a81a64",
        "colab": {
          "base_uri": "https://localhost:8080/",
          "height": 406
        }
      },
      "source": [
        "daum_star"
      ],
      "execution_count": 12,
      "outputs": [
        {
          "output_type": "execute_result",
          "data": {
            "text/html": [
              "<div>\n",
              "<style scoped>\n",
              "    .dataframe tbody tr th:only-of-type {\n",
              "        vertical-align: middle;\n",
              "    }\n",
              "\n",
              "    .dataframe tbody tr th {\n",
              "        vertical-align: top;\n",
              "    }\n",
              "\n",
              "    .dataframe thead th {\n",
              "        text-align: right;\n",
              "    }\n",
              "</style>\n",
              "<table border=\"1\" class=\"dataframe\">\n",
              "  <thead>\n",
              "    <tr style=\"text-align: right;\">\n",
              "      <th></th>\n",
              "      <th>제목</th>\n",
              "      <th>total_star</th>\n",
              "      <th>네티즌수</th>\n",
              "    </tr>\n",
              "  </thead>\n",
              "  <tbody>\n",
              "    <tr>\n",
              "      <th>0</th>\n",
              "      <td>플란다스의 개</td>\n",
              "      <td>792.0</td>\n",
              "      <td>110</td>\n",
              "    </tr>\n",
              "    <tr>\n",
              "      <th>1</th>\n",
              "      <td>카라</td>\n",
              "      <td>140.7</td>\n",
              "      <td>21</td>\n",
              "    </tr>\n",
              "    <tr>\n",
              "      <th>2</th>\n",
              "      <td>주노명 베이커리</td>\n",
              "      <td>75.4</td>\n",
              "      <td>13</td>\n",
              "    </tr>\n",
              "    <tr>\n",
              "      <th>3</th>\n",
              "      <td>여고괴담 두번째 이야기</td>\n",
              "      <td>576.2</td>\n",
              "      <td>67</td>\n",
              "    </tr>\n",
              "    <tr>\n",
              "      <th>4</th>\n",
              "      <td>행복한 장의사</td>\n",
              "      <td>355.5</td>\n",
              "      <td>45</td>\n",
              "    </tr>\n",
              "    <tr>\n",
              "      <th>...</th>\n",
              "      <td>...</td>\n",
              "      <td>...</td>\n",
              "      <td>...</td>\n",
              "    </tr>\n",
              "    <tr>\n",
              "      <th>32554</th>\n",
              "      <td>아이를 부탁해</td>\n",
              "      <td>14.0</td>\n",
              "      <td>2</td>\n",
              "    </tr>\n",
              "    <tr>\n",
              "      <th>32555</th>\n",
              "      <td>올로투레</td>\n",
              "      <td>4.0</td>\n",
              "      <td>1</td>\n",
              "    </tr>\n",
              "    <tr>\n",
              "      <th>32556</th>\n",
              "      <td>뱀파이어 vs 브롱크스</td>\n",
              "      <td>12.0</td>\n",
              "      <td>5</td>\n",
              "    </tr>\n",
              "    <tr>\n",
              "      <th>32557</th>\n",
              "      <td>독전: 비밀의 숲</td>\n",
              "      <td>1.0</td>\n",
              "      <td>1</td>\n",
              "    </tr>\n",
              "    <tr>\n",
              "      <th>32558</th>\n",
              "      <td>데이비드 애튼버러 - 우리의 지구를 위하여</td>\n",
              "      <td>8.0</td>\n",
              "      <td>1</td>\n",
              "    </tr>\n",
              "  </tbody>\n",
              "</table>\n",
              "<p>32559 rows × 3 columns</p>\n",
              "</div>"
            ],
            "text/plain": [
              "                            제목  total_star  네티즌수\n",
              "0                      플란다스의 개       792.0   110\n",
              "1                           카라       140.7    21\n",
              "2                     주노명 베이커리        75.4    13\n",
              "3                 여고괴담 두번째 이야기       576.2    67\n",
              "4                      행복한 장의사       355.5    45\n",
              "...                        ...         ...   ...\n",
              "32554                  아이를 부탁해        14.0     2\n",
              "32555                     올로투레         4.0     1\n",
              "32556             뱀파이어 vs 브롱크스        12.0     5\n",
              "32557                독전: 비밀의 숲         1.0     1\n",
              "32558  데이비드 애튼버러 - 우리의 지구를 위하여         8.0     1\n",
              "\n",
              "[32559 rows x 3 columns]"
            ]
          },
          "metadata": {
            "tags": []
          },
          "execution_count": 12
        }
      ]
    },
    {
      "cell_type": "code",
      "metadata": {
        "id": "zGKzqtK9etdT"
      },
      "source": [
        "daum_star['a'] = daum_star['total_star']/10 + 1\n",
        "daum_star['b'] = 1 + daum_star['네티즌수'] - daum_star['total_star']/10\n",
        "\n",
        "daum_star['mu'] = daum_star['a'] / (daum_star['a']+daum_star['b'])\n",
        "\n",
        "daum_star['std_err'] = 1.65 * np.sqrt((daum_star['a'] * daum_star['b']) / (((daum_star['a'] + daum_star['b'])**2) * (daum_star['a'] + daum_star['b'] + 1 )) )\n",
        "\n",
        "daum_star['lb'] = daum_star['mu'] - daum_star['std_err']"
      ],
      "execution_count": 25,
      "outputs": []
    },
    {
      "cell_type": "code",
      "metadata": {
        "id": "FWTQzCceNksD",
        "outputId": "01735325-6995-4b19-d456-465c5b7c6064",
        "colab": {
          "base_uri": "https://localhost:8080/",
          "height": 230
        }
      },
      "source": [
        "daum_star['lb']"
      ],
      "execution_count": 26,
      "outputs": [
        {
          "output_type": "execute_result",
          "data": {
            "text/plain": [
              "0        0.646083\n",
              "1        0.495135\n",
              "2        0.365076\n",
              "3        0.779062\n",
              "4        0.678629\n",
              "           ...   \n",
              "32554    0.238503\n",
              "32555    0.055084\n",
              "32556    0.043471\n",
              "32557   -0.030896\n",
              "32558    0.195834\n",
              "Name: lb, Length: 32559, dtype: float64"
            ]
          },
          "metadata": {
            "tags": []
          },
          "execution_count": 26
        }
      ]
    },
    {
      "cell_type": "code",
      "metadata": {
        "id": "nwa4ESnLftAQ"
      },
      "source": [
        "daum_reorder = daum_star[['제목', 'lb']]"
      ],
      "execution_count": 27,
      "outputs": []
    },
    {
      "cell_type": "code",
      "metadata": {
        "id": "aSmJMEYISJ8J"
      },
      "source": [
        "daum_reorder = daum_reorder.sort_values('lb', ascending = False)"
      ],
      "execution_count": 30,
      "outputs": []
    },
    {
      "cell_type": "code",
      "metadata": {
        "id": "C3NRb1KiSRyd",
        "outputId": "a4a47c95-2963-4162-e4d4-be04954f677d",
        "colab": {
          "base_uri": "https://localhost:8080/",
          "height": 406
        }
      },
      "source": [
        "daum_reorder[daum_reorder['lb'] > 0.5]"
      ],
      "execution_count": 34,
      "outputs": [
        {
          "output_type": "execute_result",
          "data": {
            "text/html": [
              "<div>\n",
              "<style scoped>\n",
              "    .dataframe tbody tr th:only-of-type {\n",
              "        vertical-align: middle;\n",
              "    }\n",
              "\n",
              "    .dataframe tbody tr th {\n",
              "        vertical-align: top;\n",
              "    }\n",
              "\n",
              "    .dataframe thead th {\n",
              "        text-align: right;\n",
              "    }\n",
              "</style>\n",
              "<table border=\"1\" class=\"dataframe\">\n",
              "  <thead>\n",
              "    <tr style=\"text-align: right;\">\n",
              "      <th></th>\n",
              "      <th>제목</th>\n",
              "      <th>lb</th>\n",
              "    </tr>\n",
              "  </thead>\n",
              "  <tbody>\n",
              "    <tr>\n",
              "      <th>26780</th>\n",
              "      <td>더 플랜</td>\n",
              "      <td>0.987438</td>\n",
              "    </tr>\n",
              "    <tr>\n",
              "      <th>18477</th>\n",
              "      <td>또 하나의 약속</td>\n",
              "      <td>0.976183</td>\n",
              "    </tr>\n",
              "    <tr>\n",
              "      <th>28556</th>\n",
              "      <td>그날, 바다</td>\n",
              "      <td>0.965885</td>\n",
              "    </tr>\n",
              "    <tr>\n",
              "      <th>22517</th>\n",
              "      <td>귀향</td>\n",
              "      <td>0.965363</td>\n",
              "    </tr>\n",
              "    <tr>\n",
              "      <th>27225</th>\n",
              "      <td>공범자들</td>\n",
              "      <td>0.963159</td>\n",
              "    </tr>\n",
              "    <tr>\n",
              "      <th>...</th>\n",
              "      <td>...</td>\n",
              "      <td>...</td>\n",
              "    </tr>\n",
              "    <tr>\n",
              "      <th>17814</th>\n",
              "      <td>카페</td>\n",
              "      <td>0.500001</td>\n",
              "    </tr>\n",
              "    <tr>\n",
              "      <th>19063</th>\n",
              "      <td>괜찮아 3반</td>\n",
              "      <td>0.500001</td>\n",
              "    </tr>\n",
              "    <tr>\n",
              "      <th>10777</th>\n",
              "      <td>가벼운 잠</td>\n",
              "      <td>0.500001</td>\n",
              "    </tr>\n",
              "    <tr>\n",
              "      <th>9054</th>\n",
              "      <td>저수지에서 건진 치타</td>\n",
              "      <td>0.500001</td>\n",
              "    </tr>\n",
              "    <tr>\n",
              "      <th>974</th>\n",
              "      <td>체이싱 아미</td>\n",
              "      <td>0.500001</td>\n",
              "    </tr>\n",
              "  </tbody>\n",
              "</table>\n",
              "<p>9453 rows × 2 columns</p>\n",
              "</div>"
            ],
            "text/plain": [
              "                제목        lb\n",
              "26780         더 플랜  0.987438\n",
              "18477     또 하나의 약속  0.976183\n",
              "28556       그날, 바다  0.965885\n",
              "22517           귀향  0.965363\n",
              "27225         공범자들  0.963159\n",
              "...            ...       ...\n",
              "17814           카페  0.500001\n",
              "19063       괜찮아 3반  0.500001\n",
              "10777        가벼운 잠  0.500001\n",
              "9054   저수지에서 건진 치타  0.500001\n",
              "974         체이싱 아미  0.500001\n",
              "\n",
              "[9453 rows x 2 columns]"
            ]
          },
          "metadata": {
            "tags": []
          },
          "execution_count": 34
        }
      ]
    },
    {
      "cell_type": "code",
      "metadata": {
        "id": "gylROovAS1TU"
      },
      "source": [
        ""
      ],
      "execution_count": null,
      "outputs": []
    }
  ]
}