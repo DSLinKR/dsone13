{
  "nbformat": 4,
  "nbformat_minor": 0,
  "metadata": {
    "colab": {
      "name": "addingmovie.ipynb",
      "provenance": [],
      "collapsed_sections": []
    },
    "kernelspec": {
      "name": "python3",
      "display_name": "Python 3"
    }
  },
  "cells": [
    {
      "cell_type": "code",
      "metadata": {
        "id": "19sHEwV3rTVu"
      },
      "source": [
        "import pandas as pd\n",
        "import numpy as np\n",
        "import re\n",
        "from datetime import datetime"
      ],
      "execution_count": 40,
      "outputs": []
    },
    {
      "cell_type": "code",
      "metadata": {
        "id": "OZbj3MC3rXvK"
      },
      "source": [
        "naver = pd.read_csv(\"https://raw.githubusercontent.com/dhxoghks95/dsone13/master/data/naver_movie.csv\")"
      ],
      "execution_count": 2,
      "outputs": []
    },
    {
      "cell_type": "code",
      "metadata": {
        "id": "Q_yLWC5yrujc"
      },
      "source": [
        "naver = naver.drop(columns = ['Unnamed: 0'])"
      ],
      "execution_count": 3,
      "outputs": []
    },
    {
      "cell_type": "code",
      "metadata": {
        "id": "a6j3k8_Fy4FG",
        "outputId": "751d40e4-1e5f-46ba-fc34-b0c2bbcf4713",
        "colab": {
          "base_uri": "https://localhost:8080/",
          "height": 590
        }
      },
      "source": [
        "naver"
      ],
      "execution_count": 4,
      "outputs": [
        {
          "output_type": "execute_result",
          "data": {
            "text/html": [
              "<div>\n",
              "<style scoped>\n",
              "    .dataframe tbody tr th:only-of-type {\n",
              "        vertical-align: middle;\n",
              "    }\n",
              "\n",
              "    .dataframe tbody tr th {\n",
              "        vertical-align: top;\n",
              "    }\n",
              "\n",
              "    .dataframe thead th {\n",
              "        text-align: right;\n",
              "    }\n",
              "</style>\n",
              "<table border=\"1\" class=\"dataframe\">\n",
              "  <thead>\n",
              "    <tr style=\"text-align: right;\">\n",
              "      <th></th>\n",
              "      <th>제목</th>\n",
              "      <th>네티즌평점</th>\n",
              "      <th>관람객평점</th>\n",
              "      <th>평론가평점</th>\n",
              "      <th>누적관객수</th>\n",
              "      <th>개봉일</th>\n",
              "      <th>개봉연도</th>\n",
              "      <th>장르</th>\n",
              "      <th>상영시간</th>\n",
              "      <th>국가</th>\n",
              "      <th>등급</th>\n",
              "      <th>감독</th>\n",
              "      <th>주연</th>\n",
              "      <th>네티즌리뷰수</th>\n",
              "      <th>평론가리뷰수</th>\n",
              "      <th>URL</th>\n",
              "      <th>영화코드</th>\n",
              "    </tr>\n",
              "  </thead>\n",
              "  <tbody>\n",
              "    <tr>\n",
              "      <th>0</th>\n",
              "      <td>108명의 여자와 섹스하는 방법 (108: REVENGE AND ADVENTURE ...</td>\n",
              "      <td>1.00</td>\n",
              "      <td>NaN</td>\n",
              "      <td>NaN</td>\n",
              "      <td>NaN</td>\n",
              "      <td>2020.05.21</td>\n",
              "      <td>2020</td>\n",
              "      <td>코미디,드라마</td>\n",
              "      <td>101분</td>\n",
              "      <td>일본</td>\n",
              "      <td>[국내]청소년관람불가</td>\n",
              "      <td>마츠오 스즈키</td>\n",
              "      <td>마츠오 스즈키,나카야마 미호</td>\n",
              "      <td>1</td>\n",
              "      <td>0.0</td>\n",
              "      <td>https://movie.naver.com/movie/bi/mi/basic.nhn?...</td>\n",
              "      <td>193996</td>\n",
              "    </tr>\n",
              "    <tr>\n",
              "      <th>1</th>\n",
              "      <td>16세의 사운드트랙 (Soundtrack to Sixteen)</td>\n",
              "      <td>8.00</td>\n",
              "      <td>7.50</td>\n",
              "      <td>6.00</td>\n",
              "      <td>NaN</td>\n",
              "      <td>2020.07.02</td>\n",
              "      <td>2020</td>\n",
              "      <td>코미디,멜로/로맨스</td>\n",
              "      <td>85분</td>\n",
              "      <td>영국</td>\n",
              "      <td>[국내]12세관람가</td>\n",
              "      <td>힐러리 셰익스피어</td>\n",
              "      <td>스칼렛 마샬,제임스 콜로웨이</td>\n",
              "      <td>3</td>\n",
              "      <td>3.0</td>\n",
              "      <td>https://movie.naver.com/movie/bi/mi/basic.nhn?...</td>\n",
              "      <td>194004</td>\n",
              "    </tr>\n",
              "    <tr>\n",
              "      <th>2</th>\n",
              "      <td>1917 (1917)</td>\n",
              "      <td>8.86</td>\n",
              "      <td>9.04</td>\n",
              "      <td>7.67</td>\n",
              "      <td>NaN</td>\n",
              "      <td>2020.02.19</td>\n",
              "      <td>2020</td>\n",
              "      <td>드라마,전쟁</td>\n",
              "      <td>119분</td>\n",
              "      <td>미국</td>\n",
              "      <td>[국내]15세관람가</td>\n",
              "      <td>샘 멘데스</td>\n",
              "      <td>조지 맥케이,딘-찰스 채프먼</td>\n",
              "      <td>5,616</td>\n",
              "      <td>9.0</td>\n",
              "      <td>https://movie.naver.com/movie/bi/mi/basic.nhn?...</td>\n",
              "      <td>187321</td>\n",
              "    </tr>\n",
              "    <tr>\n",
              "      <th>3</th>\n",
              "      <td>1942: 언노운 배틀 (Unknown Battle)</td>\n",
              "      <td>8.01</td>\n",
              "      <td>9.00</td>\n",
              "      <td>6.00</td>\n",
              "      <td>NaN</td>\n",
              "      <td>2020.07.29</td>\n",
              "      <td>2020</td>\n",
              "      <td>전쟁</td>\n",
              "      <td>117분</td>\n",
              "      <td>러시아 연방</td>\n",
              "      <td>[국내]15세관람가</td>\n",
              "      <td>이고르 카피로브</td>\n",
              "      <td>세르게이 자코브,이반 바타레프,알렉산드르 버카로프</td>\n",
              "      <td>74</td>\n",
              "      <td>2.0</td>\n",
              "      <td>https://movie.naver.com/movie/bi/mi/basic.nhn?...</td>\n",
              "      <td>194791</td>\n",
              "    </tr>\n",
              "    <tr>\n",
              "      <th>4</th>\n",
              "      <td>1945: 포인트 오브 노 리턴 (The Eastern Front: Point of...</td>\n",
              "      <td>3.64</td>\n",
              "      <td>NaN</td>\n",
              "      <td>4.00</td>\n",
              "      <td>NaN</td>\n",
              "      <td>2020.06.24</td>\n",
              "      <td>2020</td>\n",
              "      <td>전쟁</td>\n",
              "      <td>85분</td>\n",
              "      <td>영국</td>\n",
              "      <td>[국내]15세관람가</td>\n",
              "      <td>릭 로버츠</td>\n",
              "      <td>조쉬 하퍼,닐 워드,로라 진 마쉬</td>\n",
              "      <td>33</td>\n",
              "      <td>1.0</td>\n",
              "      <td>https://movie.naver.com/movie/bi/mi/basic.nhn?...</td>\n",
              "      <td>194297</td>\n",
              "    </tr>\n",
              "    <tr>\n",
              "      <th>...</th>\n",
              "      <td>...</td>\n",
              "      <td>...</td>\n",
              "      <td>...</td>\n",
              "      <td>...</td>\n",
              "      <td>...</td>\n",
              "      <td>...</td>\n",
              "      <td>...</td>\n",
              "      <td>...</td>\n",
              "      <td>...</td>\n",
              "      <td>...</td>\n",
              "      <td>...</td>\n",
              "      <td>...</td>\n",
              "      <td>...</td>\n",
              "      <td>...</td>\n",
              "      <td>...</td>\n",
              "      <td>...</td>\n",
              "      <td>...</td>\n",
              "    </tr>\n",
              "    <tr>\n",
              "      <th>24845</th>\n",
              "      <td>홍차기의 일생</td>\n",
              "      <td>10.00</td>\n",
              "      <td>NaN</td>\n",
              "      <td>NaN</td>\n",
              "      <td>NaN</td>\n",
              "      <td>NaN</td>\n",
              "      <td>NaN</td>\n",
              "      <td>한국</td>\n",
              "      <td>NaN</td>\n",
              "      <td>1948</td>\n",
              "      <td>[해외]NR도움말</td>\n",
              "      <td>임운학</td>\n",
              "      <td>임운학</td>\n",
              "      <td>1</td>\n",
              "      <td>NaN</td>\n",
              "      <td>https://movie.naver.com/movie/bi/mi/basic.nhn?...</td>\n",
              "      <td>23682</td>\n",
              "    </tr>\n",
              "    <tr>\n",
              "      <th>24846</th>\n",
              "      <td>황야의 결투 (My Darling Clementine)</td>\n",
              "      <td>7.50</td>\n",
              "      <td>NaN</td>\n",
              "      <td>NaN</td>\n",
              "      <td>NaN</td>\n",
              "      <td>2010.11.30 1948.09.10</td>\n",
              "      <td>1946</td>\n",
              "      <td>서부,드라마</td>\n",
              "      <td>97분</td>\n",
              "      <td>미국</td>\n",
              "      <td>[국내]12세관람가</td>\n",
              "      <td>존 포드</td>\n",
              "      <td>헨리 폰다,린다 다넬,빅터 머추어</td>\n",
              "      <td>10</td>\n",
              "      <td>NaN</td>\n",
              "      <td>https://movie.naver.com/movie/bi/mi/basic.nhn?...</td>\n",
              "      <td>11259</td>\n",
              "    </tr>\n",
              "    <tr>\n",
              "      <th>24847</th>\n",
              "      <td>회의는 춤춘다 (Congress Dances)</td>\n",
              "      <td>0.00</td>\n",
              "      <td>NaN</td>\n",
              "      <td>NaN</td>\n",
              "      <td>NaN</td>\n",
              "      <td>1946.10.15</td>\n",
              "      <td>Congress Dances</td>\n",
              "      <td>코미디</td>\n",
              "      <td>85분</td>\n",
              "      <td>독일</td>\n",
              "      <td>NaN</td>\n",
              "      <td>에릭 차렐</td>\n",
              "      <td>릴리안 하비,콘라드 베이트</td>\n",
              "      <td>NaN</td>\n",
              "      <td>NaN</td>\n",
              "      <td>https://movie.naver.com/movie/bi/mi/basic.nhn?...</td>\n",
              "      <td>151881</td>\n",
              "    </tr>\n",
              "    <tr>\n",
              "      <th>24848</th>\n",
              "      <td>흙에 산다</td>\n",
              "      <td>10.00</td>\n",
              "      <td>NaN</td>\n",
              "      <td>NaN</td>\n",
              "      <td>NaN</td>\n",
              "      <td>NaN</td>\n",
              "      <td>NaN</td>\n",
              "      <td>한국</td>\n",
              "      <td>NaN</td>\n",
              "      <td>1942</td>\n",
              "      <td>[해외]NR도움말</td>\n",
              "      <td>안석영</td>\n",
              "      <td>김일해,남승민,서월영</td>\n",
              "      <td>1</td>\n",
              "      <td>NaN</td>\n",
              "      <td>https://movie.naver.com/movie/bi/mi/basic.nhn?...</td>\n",
              "      <td>23827</td>\n",
              "    </tr>\n",
              "    <tr>\n",
              "      <th>24849</th>\n",
              "      <td>희망의 마을</td>\n",
              "      <td>0.00</td>\n",
              "      <td>NaN</td>\n",
              "      <td>NaN</td>\n",
              "      <td>NaN</td>\n",
              "      <td>NaN</td>\n",
              "      <td>NaN</td>\n",
              "      <td>한국</td>\n",
              "      <td>NaN</td>\n",
              "      <td>1948</td>\n",
              "      <td>[해외]NR도움말</td>\n",
              "      <td>최인규</td>\n",
              "      <td>김신재,황남,권일청</td>\n",
              "      <td>NaN</td>\n",
              "      <td>NaN</td>\n",
              "      <td>https://movie.naver.com/movie/bi/mi/basic.nhn?...</td>\n",
              "      <td>23832</td>\n",
              "    </tr>\n",
              "  </tbody>\n",
              "</table>\n",
              "<p>24850 rows × 17 columns</p>\n",
              "</div>"
            ],
            "text/plain": [
              "                                                      제목  ...    영화코드\n",
              "0      108명의 여자와 섹스하는 방법 (108: REVENGE AND ADVENTURE ...  ...  193996\n",
              "1                     16세의 사운드트랙 (Soundtrack to Sixteen)  ...  194004\n",
              "2                                            1917 (1917)  ...  187321\n",
              "3                          1942: 언노운 배틀 (Unknown Battle)  ...  194791\n",
              "4      1945: 포인트 오브 노 리턴 (The Eastern Front: Point of...  ...  194297\n",
              "...                                                  ...  ...     ...\n",
              "24845                                            홍차기의 일생  ...   23682\n",
              "24846                     황야의 결투 (My Darling Clementine)  ...   11259\n",
              "24847                          회의는 춤춘다 (Congress Dances)  ...  151881\n",
              "24848                                              흙에 산다  ...   23827\n",
              "24849                                             희망의 마을  ...   23832\n",
              "\n",
              "[24850 rows x 17 columns]"
            ]
          },
          "metadata": {
            "tags": []
          },
          "execution_count": 4
        }
      ]
    },
    {
      "cell_type": "code",
      "metadata": {
        "id": "842efZvtzCDn",
        "outputId": "b7740818-c9b1-4d0b-f58f-11be94afd83a",
        "colab": {
          "base_uri": "https://localhost:8080/",
          "height": 34
        }
      },
      "source": [
        "naver['제목'][23]"
      ],
      "execution_count": 5,
      "outputs": [
        {
          "output_type": "execute_result",
          "data": {
            "application/vnd.google.colaboratory.intrinsic+json": {
              "type": "string"
            },
            "text/plain": [
              "'걸즈 앤 판처 최종장 (GIRLS und PANZER das FINALE Part1 and Part2(4DX version))'"
            ]
          },
          "metadata": {
            "tags": []
          },
          "execution_count": 5
        }
      ]
    },
    {
      "cell_type": "code",
      "metadata": {
        "id": "E7QubzNis1jt",
        "outputId": "ee23df2e-915e-4b08-90f3-f4b191c82d65",
        "colab": {
          "base_uri": "https://localhost:8080/",
          "height": 34
        }
      },
      "source": [
        "entitle = re.findall('\\(([^)]+)',naver['제목'][23])\n",
        "entitle[0]"
      ],
      "execution_count": 6,
      "outputs": [
        {
          "output_type": "execute_result",
          "data": {
            "application/vnd.google.colaboratory.intrinsic+json": {
              "type": "string"
            },
            "text/plain": [
              "'GIRLS und PANZER das FINALE Part1 and Part2(4DX version'"
            ]
          },
          "metadata": {
            "tags": []
          },
          "execution_count": 6
        }
      ]
    },
    {
      "cell_type": "code",
      "metadata": {
        "id": "T9fWErVDvGdb",
        "outputId": "dff9cc05-120e-47fa-ba88-62f42050240e",
        "colab": {
          "base_uri": "https://localhost:8080/",
          "height": 34
        }
      },
      "source": [
        "len(naver)"
      ],
      "execution_count": 7,
      "outputs": [
        {
          "output_type": "execute_result",
          "data": {
            "text/plain": [
              "24850"
            ]
          },
          "metadata": {
            "tags": []
          },
          "execution_count": 7
        }
      ]
    },
    {
      "cell_type": "code",
      "metadata": {
        "id": "npva8F1OrvyF"
      },
      "source": [
        "entitles = list()\n",
        "for i in range(len(naver)):\n",
        "    entitle = re.findall('\\(([^)]+)',naver['제목'][i])\n",
        "    영화코드 = naver['영화코드'][i]\n",
        "    if len(entitle) == 0:\n",
        "        entitles = entitles + [[\"NaN\", 영화코드]]\n",
        "    else:\n",
        "        entitle = entitle + [영화코드]\n",
        "        entitles = entitles + [entitle]"
      ],
      "execution_count": 8,
      "outputs": []
    },
    {
      "cell_type": "code",
      "metadata": {
        "id": "fYxTeGxLv_kO"
      },
      "source": [
        "entitles = pd.DataFrame(entitles)\n"
      ],
      "execution_count": 9,
      "outputs": []
    },
    {
      "cell_type": "code",
      "metadata": {
        "id": "wc8xVpMx8EQc"
      },
      "source": [
        "entitles = entitles.iloc[:,0:2]\n",
        "entitles.columns = ['entitle', '영화코드']"
      ],
      "execution_count": 10,
      "outputs": []
    },
    {
      "cell_type": "code",
      "metadata": {
        "id": "5X4ZSn9HDMVJ"
      },
      "source": [
        "entitles = entitles.reset_index(drop = True)"
      ],
      "execution_count": 11,
      "outputs": []
    },
    {
      "cell_type": "code",
      "metadata": {
        "id": "-FmxvJ-DsAoI"
      },
      "source": [
        "naver_merged = naver.merge(entitles, how = 'left', on = '영화코드')"
      ],
      "execution_count": 12,
      "outputs": []
    },
    {
      "cell_type": "code",
      "metadata": {
        "id": "ajA5XaDYtPu_"
      },
      "source": [
        "naver_merged = naver_merged[naver_merged.duplicated(keep = 'first') == False]"
      ],
      "execution_count": 13,
      "outputs": []
    },
    {
      "cell_type": "code",
      "metadata": {
        "id": "GcPH1zdgtV5d"
      },
      "source": [
        "naver_merged = naver_merged.reset_index(drop = True)"
      ],
      "execution_count": 14,
      "outputs": []
    },
    {
      "cell_type": "code",
      "metadata": {
        "id": "2Swr1KZGESKh",
        "outputId": "73f72722-1b5d-4f5e-f9f9-0af73e2e6540",
        "colab": {
          "base_uri": "https://localhost:8080/",
          "height": 105
        }
      },
      "source": [
        "for i in range(naver_merged.shape[0]):\n",
        "    title = re.sub(r'\\([^)]*\\)', '', naver_merged['제목'][i])\n",
        "    title = title.strip()\n",
        "    naver_merged['제목'][i] = title"
      ],
      "execution_count": 15,
      "outputs": [
        {
          "output_type": "stream",
          "text": [
            "/usr/local/lib/python3.6/dist-packages/ipykernel_launcher.py:4: SettingWithCopyWarning: \n",
            "A value is trying to be set on a copy of a slice from a DataFrame\n",
            "\n",
            "See the caveats in the documentation: https://pandas.pydata.org/pandas-docs/stable/user_guide/indexing.html#returning-a-view-versus-a-copy\n",
            "  after removing the cwd from sys.path.\n"
          ],
          "name": "stderr"
        }
      ]
    },
    {
      "cell_type": "code",
      "metadata": {
        "id": "mwv9ZZTwFfFf"
      },
      "source": [
        "naver_merged = naver_merged[pd.isnull(naver_merged['네티즌리뷰수']) != True]"
      ],
      "execution_count": 25,
      "outputs": []
    },
    {
      "cell_type": "code",
      "metadata": {
        "id": "HABWol0fK_zQ",
        "outputId": "c3cdb954-1e63-4583-ff44-b2a52e67ddf0",
        "colab": {
          "base_uri": "https://localhost:8080/",
          "height": 123
        }
      },
      "source": [
        "naver_merged['entitle'] = naver_merged['entitle'].str.lower()"
      ],
      "execution_count": 29,
      "outputs": [
        {
          "output_type": "stream",
          "text": [
            "/usr/local/lib/python3.6/dist-packages/ipykernel_launcher.py:1: SettingWithCopyWarning: \n",
            "A value is trying to be set on a copy of a slice from a DataFrame.\n",
            "Try using .loc[row_indexer,col_indexer] = value instead\n",
            "\n",
            "See the caveats in the documentation: https://pandas.pydata.org/pandas-docs/stable/user_guide/indexing.html#returning-a-view-versus-a-copy\n",
            "  \"\"\"Entry point for launching an IPython kernel.\n"
          ],
          "name": "stderr"
        }
      ]
    },
    {
      "cell_type": "code",
      "metadata": {
        "id": "DG-kEjYKLzUg"
      },
      "source": [
        "naver_merged = naver_merged.reset_index(drop = True)"
      ],
      "execution_count": 31,
      "outputs": []
    },
    {
      "cell_type": "code",
      "metadata": {
        "id": "_sI6i1HrTHQz"
      },
      "source": [
        "def grap_year(data):\n",
        "    data = str(data)\n",
        "    if data != \"nan\":\n",
        "        return data[:4]\n",
        "    else:\n",
        "        return \"NaN\"\n",
        "\n",
        "def grap_month(data):\n",
        "    data = str(data)\n",
        "    if data != \"nan\":\n",
        "        return data[5:7]\n",
        "    else:\n",
        "        return \"NaN\""
      ],
      "execution_count": null,
      "outputs": []
    },
    {
      "cell_type": "code",
      "metadata": {
        "id": "hV4PWJxPTHz2"
      },
      "source": [
        "naver_merged['year'] = naver_merged['개봉일'].apply(lambda x: grap_year(x))\n",
        "naver_merged['month'] = naver_merged['개봉일'].apply(lambda x: grap_month(x))"
      ],
      "execution_count": 72,
      "outputs": []
    },
    {
      "cell_type": "code",
      "metadata": {
        "id": "byDzo0BFJ48J"
      },
      "source": [
        "daum = pd.read_csv(\"https://raw.githubusercontent.com/dhxoghks95/dsone13/master/data/daum_movie.csv\")"
      ],
      "execution_count": 17,
      "outputs": []
    },
    {
      "cell_type": "code",
      "metadata": {
        "id": "N_nPsG3TMYfF"
      },
      "source": [
        "daum = daum[daum.네티즌수 != 0]"
      ],
      "execution_count": 78,
      "outputs": []
    },
    {
      "cell_type": "code",
      "metadata": {
        "id": "9fYZnEmqNss7"
      },
      "source": [
        "daum['year'] = daum['개봉일'].apply(lambda x: grap_year(x))\n",
        "daum['month'] = daum['개봉일'].apply(lambda x: grap_month(x))"
      ],
      "execution_count": 70,
      "outputs": []
    },
    {
      "cell_type": "code",
      "metadata": {
        "id": "UgL4a2H_MY-N",
        "outputId": "4fa029b7-6644-42b0-c4bb-7bfafda2a7c0",
        "colab": {
          "base_uri": "https://localhost:8080/",
          "height": 406
        }
      },
      "source": [
        "daum"
      ],
      "execution_count": 81,
      "outputs": [
        {
          "output_type": "execute_result",
          "data": {
            "text/html": [
              "<div>\n",
              "<style scoped>\n",
              "    .dataframe tbody tr th:only-of-type {\n",
              "        vertical-align: middle;\n",
              "    }\n",
              "\n",
              "    .dataframe tbody tr th {\n",
              "        vertical-align: top;\n",
              "    }\n",
              "\n",
              "    .dataframe thead th {\n",
              "        text-align: right;\n",
              "    }\n",
              "</style>\n",
              "<table border=\"1\" class=\"dataframe\">\n",
              "  <thead>\n",
              "    <tr style=\"text-align: right;\">\n",
              "      <th></th>\n",
              "      <th>영화코드</th>\n",
              "      <th>제목</th>\n",
              "      <th>영어제목</th>\n",
              "      <th>개봉일</th>\n",
              "      <th>국가</th>\n",
              "      <th>장르</th>\n",
              "      <th>별점</th>\n",
              "      <th>네티즌수</th>\n",
              "      <th>year</th>\n",
              "      <th>month</th>\n",
              "    </tr>\n",
              "  </thead>\n",
              "  <tbody>\n",
              "    <tr>\n",
              "      <th>0</th>\n",
              "      <td>1</td>\n",
              "      <td>플란다스의 개</td>\n",
              "      <td>Barking Dogs Never Bite</td>\n",
              "      <td>2000-02-19</td>\n",
              "      <td>한국</td>\n",
              "      <td>코미디</td>\n",
              "      <td>7.3</td>\n",
              "      <td>111</td>\n",
              "      <td>2000</td>\n",
              "      <td>02</td>\n",
              "    </tr>\n",
              "    <tr>\n",
              "      <th>1</th>\n",
              "      <td>2</td>\n",
              "      <td>카라</td>\n",
              "      <td>Calla</td>\n",
              "      <td>1999-09-18</td>\n",
              "      <td>한국</td>\n",
              "      <td>로맨스/멜로/판타지</td>\n",
              "      <td>6.7</td>\n",
              "      <td>21</td>\n",
              "      <td>1999</td>\n",
              "      <td>09</td>\n",
              "    </tr>\n",
              "    <tr>\n",
              "      <th>2</th>\n",
              "      <td>3</td>\n",
              "      <td>주노명 베이커리</td>\n",
              "      <td>NaN</td>\n",
              "      <td>2000-01-15</td>\n",
              "      <td>한국</td>\n",
              "      <td>드라마</td>\n",
              "      <td>5.8</td>\n",
              "      <td>13</td>\n",
              "      <td>2000</td>\n",
              "      <td>01</td>\n",
              "    </tr>\n",
              "    <tr>\n",
              "      <th>3</th>\n",
              "      <td>4</td>\n",
              "      <td>여고괴담 두번째 이야기</td>\n",
              "      <td>Memento Mori</td>\n",
              "      <td>1999-12-24</td>\n",
              "      <td>한국</td>\n",
              "      <td>공포</td>\n",
              "      <td>8.6</td>\n",
              "      <td>67</td>\n",
              "      <td>1999</td>\n",
              "      <td>12</td>\n",
              "    </tr>\n",
              "    <tr>\n",
              "      <th>4</th>\n",
              "      <td>5</td>\n",
              "      <td>행복한 장의사</td>\n",
              "      <td>NaN</td>\n",
              "      <td>2000-01-08</td>\n",
              "      <td>한국</td>\n",
              "      <td>코미디</td>\n",
              "      <td>7.9</td>\n",
              "      <td>45</td>\n",
              "      <td>2000</td>\n",
              "      <td>01</td>\n",
              "    </tr>\n",
              "    <tr>\n",
              "      <th>...</th>\n",
              "      <td>...</td>\n",
              "      <td>...</td>\n",
              "      <td>...</td>\n",
              "      <td>...</td>\n",
              "      <td>...</td>\n",
              "      <td>...</td>\n",
              "      <td>...</td>\n",
              "      <td>...</td>\n",
              "      <td>...</td>\n",
              "      <td>...</td>\n",
              "    </tr>\n",
              "    <tr>\n",
              "      <th>125360</th>\n",
              "      <td>145182</td>\n",
              "      <td>데이비드 애튼버러 - 우리의 지구를 위하여</td>\n",
              "      <td>David Attenborough: A Life on Our Planet</td>\n",
              "      <td>NaN</td>\n",
              "      <td>미국, 영국</td>\n",
              "      <td>다큐멘터리</td>\n",
              "      <td>8.0</td>\n",
              "      <td>1</td>\n",
              "      <td>NaN</td>\n",
              "      <td>NaN</td>\n",
              "    </tr>\n",
              "    <tr>\n",
              "      <th>125382</th>\n",
              "      <td>145205</td>\n",
              "      <td>나무</td>\n",
              "      <td>Tree</td>\n",
              "      <td>NaN</td>\n",
              "      <td>한국</td>\n",
              "      <td>드라마</td>\n",
              "      <td>10.0</td>\n",
              "      <td>1</td>\n",
              "      <td>NaN</td>\n",
              "      <td>NaN</td>\n",
              "    </tr>\n",
              "    <tr>\n",
              "      <th>125465</th>\n",
              "      <td>145289</td>\n",
              "      <td>송해 1927</td>\n",
              "      <td>Song Hae 1927</td>\n",
              "      <td>NaN</td>\n",
              "      <td>한국</td>\n",
              "      <td>다큐멘터리/가족</td>\n",
              "      <td>8.0</td>\n",
              "      <td>1</td>\n",
              "      <td>NaN</td>\n",
              "      <td>NaN</td>\n",
              "    </tr>\n",
              "    <tr>\n",
              "      <th>125470</th>\n",
              "      <td>145294</td>\n",
              "      <td>데빌 인사이드 미</td>\n",
              "      <td>Demons Inside Me, Jade's Asylum</td>\n",
              "      <td>2020-11-00</td>\n",
              "      <td>캐나다</td>\n",
              "      <td>공포</td>\n",
              "      <td>5.5</td>\n",
              "      <td>2</td>\n",
              "      <td>2020</td>\n",
              "      <td>11</td>\n",
              "    </tr>\n",
              "    <tr>\n",
              "      <th>125473</th>\n",
              "      <td>145297</td>\n",
              "      <td>해피 데스데이: 악마의 큐피드</td>\n",
              "      <td>Cupid</td>\n",
              "      <td>2020-11-00</td>\n",
              "      <td>미국</td>\n",
              "      <td>공포</td>\n",
              "      <td>0.0</td>\n",
              "      <td>1</td>\n",
              "      <td>2020</td>\n",
              "      <td>11</td>\n",
              "    </tr>\n",
              "  </tbody>\n",
              "</table>\n",
              "<p>36267 rows × 10 columns</p>\n",
              "</div>"
            ],
            "text/plain": [
              "          영화코드                       제목  ...  year month\n",
              "0            1                  플란다스의 개  ...  2000    02\n",
              "1            2                       카라  ...  1999    09\n",
              "2            3                 주노명 베이커리  ...  2000    01\n",
              "3            4             여고괴담 두번째 이야기  ...  1999    12\n",
              "4            5                  행복한 장의사  ...  2000    01\n",
              "...        ...                      ...  ...   ...   ...\n",
              "125360  145182  데이비드 애튼버러 - 우리의 지구를 위하여  ...   NaN   NaN\n",
              "125382  145205                       나무  ...   NaN   NaN\n",
              "125465  145289                  송해 1927  ...   NaN   NaN\n",
              "125470  145294                데빌 인사이드 미  ...  2020    11\n",
              "125473  145297         해피 데스데이: 악마의 큐피드  ...  2020    11\n",
              "\n",
              "[36267 rows x 10 columns]"
            ]
          },
          "metadata": {
            "tags": []
          },
          "execution_count": 81
        }
      ]
    },
    {
      "cell_type": "code",
      "metadata": {
        "id": "kFWAbWlHMiIk"
      },
      "source": [
        "merged = pd.merge(daum, naver_merged, how = 'outer', on = ['제목', 'year', 'month'])"
      ],
      "execution_count": 112,
      "outputs": []
    },
    {
      "cell_type": "code",
      "metadata": {
        "id": "xcT5OFYkU2Ac",
        "outputId": "39d3f777-b134-493c-9091-366f4a87f40d",
        "colab": {
          "base_uri": "https://localhost:8080/",
          "height": 740
        }
      },
      "source": [
        "merged"
      ],
      "execution_count": 86,
      "outputs": [
        {
          "output_type": "execute_result",
          "data": {
            "text/html": [
              "<div>\n",
              "<style scoped>\n",
              "    .dataframe tbody tr th:only-of-type {\n",
              "        vertical-align: middle;\n",
              "    }\n",
              "\n",
              "    .dataframe tbody tr th {\n",
              "        vertical-align: top;\n",
              "    }\n",
              "\n",
              "    .dataframe thead th {\n",
              "        text-align: right;\n",
              "    }\n",
              "</style>\n",
              "<table border=\"1\" class=\"dataframe\">\n",
              "  <thead>\n",
              "    <tr style=\"text-align: right;\">\n",
              "      <th></th>\n",
              "      <th>영화코드_x</th>\n",
              "      <th>제목</th>\n",
              "      <th>영어제목</th>\n",
              "      <th>개봉일_x</th>\n",
              "      <th>국가_x</th>\n",
              "      <th>장르_x</th>\n",
              "      <th>별점</th>\n",
              "      <th>네티즌수</th>\n",
              "      <th>year</th>\n",
              "      <th>month</th>\n",
              "      <th>네티즌평점</th>\n",
              "      <th>관람객평점</th>\n",
              "      <th>평론가평점</th>\n",
              "      <th>누적관객수</th>\n",
              "      <th>개봉일_y</th>\n",
              "      <th>개봉연도</th>\n",
              "      <th>장르_y</th>\n",
              "      <th>상영시간</th>\n",
              "      <th>국가_y</th>\n",
              "      <th>등급</th>\n",
              "      <th>감독</th>\n",
              "      <th>주연</th>\n",
              "      <th>네티즌리뷰수</th>\n",
              "      <th>평론가리뷰수</th>\n",
              "      <th>URL</th>\n",
              "      <th>영화코드_y</th>\n",
              "      <th>entitle</th>\n",
              "    </tr>\n",
              "  </thead>\n",
              "  <tbody>\n",
              "    <tr>\n",
              "      <th>0</th>\n",
              "      <td>1.0</td>\n",
              "      <td>플란다스의 개</td>\n",
              "      <td>Barking Dogs Never Bite</td>\n",
              "      <td>2000-02-19</td>\n",
              "      <td>한국</td>\n",
              "      <td>코미디</td>\n",
              "      <td>7.3</td>\n",
              "      <td>111.0</td>\n",
              "      <td>2000</td>\n",
              "      <td>02</td>\n",
              "      <td>8.24</td>\n",
              "      <td>8.25</td>\n",
              "      <td>NaN</td>\n",
              "      <td>NaN</td>\n",
              "      <td>2000.02.19</td>\n",
              "      <td>2000</td>\n",
              "      <td>드라마,코미디</td>\n",
              "      <td>108분</td>\n",
              "      <td>한국</td>\n",
              "      <td>[국내]12세관람가</td>\n",
              "      <td>봉준호</td>\n",
              "      <td>이성재,배두나</td>\n",
              "      <td>507</td>\n",
              "      <td>NaN</td>\n",
              "      <td>https://movie.naver.com/movie/bi/mi/basic.nhn?...</td>\n",
              "      <td>28267</td>\n",
              "      <td>a higher animal</td>\n",
              "    </tr>\n",
              "    <tr>\n",
              "      <th>1</th>\n",
              "      <td>2.0</td>\n",
              "      <td>카라</td>\n",
              "      <td>Calla</td>\n",
              "      <td>1999-09-18</td>\n",
              "      <td>한국</td>\n",
              "      <td>로맨스/멜로/판타지</td>\n",
              "      <td>6.7</td>\n",
              "      <td>21.0</td>\n",
              "      <td>1999</td>\n",
              "      <td>09</td>\n",
              "      <td>6.19</td>\n",
              "      <td>NaN</td>\n",
              "      <td>NaN</td>\n",
              "      <td>NaN</td>\n",
              "      <td>1999.09.18</td>\n",
              "      <td>1999</td>\n",
              "      <td>드라마,판타지,멜로/로맨스</td>\n",
              "      <td>97분</td>\n",
              "      <td>한국</td>\n",
              "      <td>[국내]12세관람가</td>\n",
              "      <td>송해성</td>\n",
              "      <td>송승헌,김희선,김현주</td>\n",
              "      <td>117</td>\n",
              "      <td>NaN</td>\n",
              "      <td>https://movie.naver.com/movie/bi/mi/basic.nhn?...</td>\n",
              "      <td>25580</td>\n",
              "      <td>nan</td>\n",
              "    </tr>\n",
              "    <tr>\n",
              "      <th>2</th>\n",
              "      <td>3.0</td>\n",
              "      <td>주노명 베이커리</td>\n",
              "      <td>NaN</td>\n",
              "      <td>2000-01-15</td>\n",
              "      <td>한국</td>\n",
              "      <td>드라마</td>\n",
              "      <td>5.8</td>\n",
              "      <td>13.0</td>\n",
              "      <td>2000</td>\n",
              "      <td>01</td>\n",
              "      <td>8.18</td>\n",
              "      <td>NaN</td>\n",
              "      <td>5.75</td>\n",
              "      <td>NaN</td>\n",
              "      <td>2000.01.15</td>\n",
              "      <td>2000</td>\n",
              "      <td>멜로/로맨스,코미디</td>\n",
              "      <td>108분</td>\n",
              "      <td>한국</td>\n",
              "      <td>[국내]청소년관람불가</td>\n",
              "      <td>박헌수</td>\n",
              "      <td>최민수,황신혜,이미연</td>\n",
              "      <td>45</td>\n",
              "      <td>NaN</td>\n",
              "      <td>https://movie.naver.com/movie/bi/mi/basic.nhn?...</td>\n",
              "      <td>26351</td>\n",
              "      <td>the wife in romance</td>\n",
              "    </tr>\n",
              "    <tr>\n",
              "      <th>3</th>\n",
              "      <td>4.0</td>\n",
              "      <td>여고괴담 두번째 이야기</td>\n",
              "      <td>Memento Mori</td>\n",
              "      <td>1999-12-24</td>\n",
              "      <td>한국</td>\n",
              "      <td>공포</td>\n",
              "      <td>8.6</td>\n",
              "      <td>67.0</td>\n",
              "      <td>1999</td>\n",
              "      <td>12</td>\n",
              "      <td>8.24</td>\n",
              "      <td>9.57</td>\n",
              "      <td>7.25</td>\n",
              "      <td>NaN</td>\n",
              "      <td>1999.12.24</td>\n",
              "      <td>1999</td>\n",
              "      <td>공포</td>\n",
              "      <td>98분</td>\n",
              "      <td>한국</td>\n",
              "      <td>[국내]12세관람가</td>\n",
              "      <td>김태용</td>\n",
              "      <td>김규리,박예진,이영진</td>\n",
              "      <td>718</td>\n",
              "      <td>NaN</td>\n",
              "      <td>https://movie.naver.com/movie/bi/mi/basic.nhn?...</td>\n",
              "      <td>25917</td>\n",
              "      <td>memento mori</td>\n",
              "    </tr>\n",
              "    <tr>\n",
              "      <th>4</th>\n",
              "      <td>5.0</td>\n",
              "      <td>행복한 장의사</td>\n",
              "      <td>NaN</td>\n",
              "      <td>2000-01-08</td>\n",
              "      <td>한국</td>\n",
              "      <td>코미디</td>\n",
              "      <td>7.9</td>\n",
              "      <td>45.0</td>\n",
              "      <td>2000</td>\n",
              "      <td>01</td>\n",
              "      <td>8.79</td>\n",
              "      <td>NaN</td>\n",
              "      <td>5.50</td>\n",
              "      <td>NaN</td>\n",
              "      <td>2000.01.08</td>\n",
              "      <td>2000</td>\n",
              "      <td>코미디,드라마</td>\n",
              "      <td>98분</td>\n",
              "      <td>한국</td>\n",
              "      <td>[국내]청소년관람불가</td>\n",
              "      <td>장문일</td>\n",
              "      <td>임창정,오현경,김창완</td>\n",
              "      <td>129</td>\n",
              "      <td>NaN</td>\n",
              "      <td>https://movie.naver.com/movie/bi/mi/basic.nhn?...</td>\n",
              "      <td>27629</td>\n",
              "      <td>the happy funeral director</td>\n",
              "    </tr>\n",
              "    <tr>\n",
              "      <th>...</th>\n",
              "      <td>...</td>\n",
              "      <td>...</td>\n",
              "      <td>...</td>\n",
              "      <td>...</td>\n",
              "      <td>...</td>\n",
              "      <td>...</td>\n",
              "      <td>...</td>\n",
              "      <td>...</td>\n",
              "      <td>...</td>\n",
              "      <td>...</td>\n",
              "      <td>...</td>\n",
              "      <td>...</td>\n",
              "      <td>...</td>\n",
              "      <td>...</td>\n",
              "      <td>...</td>\n",
              "      <td>...</td>\n",
              "      <td>...</td>\n",
              "      <td>...</td>\n",
              "      <td>...</td>\n",
              "      <td>...</td>\n",
              "      <td>...</td>\n",
              "      <td>...</td>\n",
              "      <td>...</td>\n",
              "      <td>...</td>\n",
              "      <td>...</td>\n",
              "      <td>...</td>\n",
              "      <td>...</td>\n",
              "    </tr>\n",
              "    <tr>\n",
              "      <th>44660</th>\n",
              "      <td>NaN</td>\n",
              "      <td>풍년가</td>\n",
              "      <td>NaN</td>\n",
              "      <td>NaN</td>\n",
              "      <td>NaN</td>\n",
              "      <td>NaN</td>\n",
              "      <td>NaN</td>\n",
              "      <td>NaN</td>\n",
              "      <td>NaN</td>\n",
              "      <td>NaN</td>\n",
              "      <td>10.00</td>\n",
              "      <td>NaN</td>\n",
              "      <td>NaN</td>\n",
              "      <td>NaN</td>\n",
              "      <td>NaN</td>\n",
              "      <td>NaN</td>\n",
              "      <td>한국</td>\n",
              "      <td>NaN</td>\n",
              "      <td>1942</td>\n",
              "      <td>[해외]NR도움말</td>\n",
              "      <td>방한중</td>\n",
              "      <td>김신재,최운봉,독은기</td>\n",
              "      <td>1</td>\n",
              "      <td>NaN</td>\n",
              "      <td>https://movie.naver.com/movie/bi/mi/basic.nhn?...</td>\n",
              "      <td>23494</td>\n",
              "      <td>nan</td>\n",
              "    </tr>\n",
              "    <tr>\n",
              "      <th>44661</th>\n",
              "      <td>NaN</td>\n",
              "      <td>프라하의 학생</td>\n",
              "      <td>NaN</td>\n",
              "      <td>NaN</td>\n",
              "      <td>NaN</td>\n",
              "      <td>NaN</td>\n",
              "      <td>NaN</td>\n",
              "      <td>NaN</td>\n",
              "      <td>NaN</td>\n",
              "      <td>NaN</td>\n",
              "      <td>1.00</td>\n",
              "      <td>NaN</td>\n",
              "      <td>NaN</td>\n",
              "      <td>NaN</td>\n",
              "      <td>NaN</td>\n",
              "      <td>1935</td>\n",
              "      <td>독일</td>\n",
              "      <td>1946\\n.01.14 개봉</td>\n",
              "      <td>NaN</td>\n",
              "      <td>NaN</td>\n",
              "      <td>아서 로비슨</td>\n",
              "      <td>안톤 월브룩</td>\n",
              "      <td>1</td>\n",
              "      <td>NaN</td>\n",
              "      <td>https://movie.naver.com/movie/bi/mi/basic.nhn?...</td>\n",
              "      <td>139288</td>\n",
              "      <td>der student von prag</td>\n",
              "    </tr>\n",
              "    <tr>\n",
              "      <th>44662</th>\n",
              "      <td>NaN</td>\n",
              "      <td>홍차기의 일생</td>\n",
              "      <td>NaN</td>\n",
              "      <td>NaN</td>\n",
              "      <td>NaN</td>\n",
              "      <td>NaN</td>\n",
              "      <td>NaN</td>\n",
              "      <td>NaN</td>\n",
              "      <td>NaN</td>\n",
              "      <td>NaN</td>\n",
              "      <td>10.00</td>\n",
              "      <td>NaN</td>\n",
              "      <td>NaN</td>\n",
              "      <td>NaN</td>\n",
              "      <td>NaN</td>\n",
              "      <td>NaN</td>\n",
              "      <td>한국</td>\n",
              "      <td>NaN</td>\n",
              "      <td>1948</td>\n",
              "      <td>[해외]NR도움말</td>\n",
              "      <td>임운학</td>\n",
              "      <td>임운학</td>\n",
              "      <td>1</td>\n",
              "      <td>NaN</td>\n",
              "      <td>https://movie.naver.com/movie/bi/mi/basic.nhn?...</td>\n",
              "      <td>23682</td>\n",
              "      <td>nan</td>\n",
              "    </tr>\n",
              "    <tr>\n",
              "      <th>44663</th>\n",
              "      <td>NaN</td>\n",
              "      <td>황야의 결투</td>\n",
              "      <td>NaN</td>\n",
              "      <td>NaN</td>\n",
              "      <td>NaN</td>\n",
              "      <td>NaN</td>\n",
              "      <td>NaN</td>\n",
              "      <td>NaN</td>\n",
              "      <td>2010</td>\n",
              "      <td>11</td>\n",
              "      <td>7.50</td>\n",
              "      <td>NaN</td>\n",
              "      <td>NaN</td>\n",
              "      <td>NaN</td>\n",
              "      <td>2010.11.30 1948.09.10</td>\n",
              "      <td>1946</td>\n",
              "      <td>서부,드라마</td>\n",
              "      <td>97분</td>\n",
              "      <td>미국</td>\n",
              "      <td>[국내]12세관람가</td>\n",
              "      <td>존 포드</td>\n",
              "      <td>헨리 폰다,린다 다넬,빅터 머추어</td>\n",
              "      <td>10</td>\n",
              "      <td>NaN</td>\n",
              "      <td>https://movie.naver.com/movie/bi/mi/basic.nhn?...</td>\n",
              "      <td>11259</td>\n",
              "      <td>my darling clementine</td>\n",
              "    </tr>\n",
              "    <tr>\n",
              "      <th>44664</th>\n",
              "      <td>NaN</td>\n",
              "      <td>흙에 산다</td>\n",
              "      <td>NaN</td>\n",
              "      <td>NaN</td>\n",
              "      <td>NaN</td>\n",
              "      <td>NaN</td>\n",
              "      <td>NaN</td>\n",
              "      <td>NaN</td>\n",
              "      <td>NaN</td>\n",
              "      <td>NaN</td>\n",
              "      <td>10.00</td>\n",
              "      <td>NaN</td>\n",
              "      <td>NaN</td>\n",
              "      <td>NaN</td>\n",
              "      <td>NaN</td>\n",
              "      <td>NaN</td>\n",
              "      <td>한국</td>\n",
              "      <td>NaN</td>\n",
              "      <td>1942</td>\n",
              "      <td>[해외]NR도움말</td>\n",
              "      <td>안석영</td>\n",
              "      <td>김일해,남승민,서월영</td>\n",
              "      <td>1</td>\n",
              "      <td>NaN</td>\n",
              "      <td>https://movie.naver.com/movie/bi/mi/basic.nhn?...</td>\n",
              "      <td>23827</td>\n",
              "      <td>nan</td>\n",
              "    </tr>\n",
              "  </tbody>\n",
              "</table>\n",
              "<p>44665 rows × 27 columns</p>\n",
              "</div>"
            ],
            "text/plain": [
              "       영화코드_x            제목  ...  영화코드_y                     entitle\n",
              "0         1.0       플란다스의 개  ...   28267             a higher animal\n",
              "1         2.0            카라  ...   25580                         nan\n",
              "2         3.0      주노명 베이커리  ...   26351         the wife in romance\n",
              "3         4.0  여고괴담 두번째 이야기  ...   25917                memento mori\n",
              "4         5.0       행복한 장의사  ...   27629  the happy funeral director\n",
              "...       ...           ...  ...     ...                         ...\n",
              "44660     NaN           풍년가  ...   23494                         nan\n",
              "44661     NaN       프라하의 학생  ...  139288        der student von prag\n",
              "44662     NaN       홍차기의 일생  ...   23682                         nan\n",
              "44663     NaN        황야의 결투  ...   11259       my darling clementine\n",
              "44664     NaN         흙에 산다  ...   23827                         nan\n",
              "\n",
              "[44665 rows x 27 columns]"
            ]
          },
          "metadata": {
            "tags": []
          },
          "execution_count": 86
        }
      ]
    },
    {
      "cell_type": "code",
      "metadata": {
        "id": "lMHCpQO2TlXB"
      },
      "source": [
        "merged = merged[['제목', '영화코드_y', '영화코드_x',  '네티즌평점', '네티즌리뷰수', '별점', '네티즌수' ]]"
      ],
      "execution_count": 113,
      "outputs": []
    },
    {
      "cell_type": "code",
      "metadata": {
        "id": "gyxJyByIUvSp"
      },
      "source": [
        "merged[pd.isnull(merged['별점'])] = 0\n",
        "merged[pd.isnull(merged['네티즌수'])] = 0\n",
        "merged[pd.isnull(merged['네티즌리뷰수'])] = 0\n",
        "merged[merged['네티즌리뷰수'] == 'nan'] = 0"
      ],
      "execution_count": 133,
      "outputs": []
    },
    {
      "cell_type": "code",
      "metadata": {
        "id": "QYjBdTKRapqH"
      },
      "source": [
        "import locale\n",
        "locale.setlocale( locale.LC_ALL, 'en_US.UTF-8' ) \n",
        "merged['네티즌리뷰수'] = merged['네티즌리뷰수'].apply(lambda x: str(x))\n",
        "merged['네티즌리뷰수'] = merged['네티즌리뷰수'].apply(lambda x: int(locale.atoi(x)))\n",
        "merged['total_reviewer'] = merged['네티즌리뷰수'] + merged['네티즌수']"
      ],
      "execution_count": 148,
      "outputs": []
    },
    {
      "cell_type": "code",
      "metadata": {
        "id": "IGscAIfAVUUb"
      },
      "source": [
        "merged['total_star'] = merged['네티즌평점'] * merged['네티즌리뷰수'] / 10 + merged['별점'] * merged['네티즌수'] / 10"
      ],
      "execution_count": 150,
      "outputs": []
    },
    {
      "cell_type": "code",
      "metadata": {
        "id": "g_ikEE4jY9md",
        "outputId": "928a10d6-1360-4ce8-8d89-e65398ae6909",
        "colab": {
          "base_uri": "https://localhost:8080/",
          "height": 406
        }
      },
      "source": [
        "merged[['제목', '영화코드_x', '영화코드_y', 'total_star', 'total_reviewer']]"
      ],
      "execution_count": 151,
      "outputs": [
        {
          "output_type": "execute_result",
          "data": {
            "text/html": [
              "<div>\n",
              "<style scoped>\n",
              "    .dataframe tbody tr th:only-of-type {\n",
              "        vertical-align: middle;\n",
              "    }\n",
              "\n",
              "    .dataframe tbody tr th {\n",
              "        vertical-align: top;\n",
              "    }\n",
              "\n",
              "    .dataframe thead th {\n",
              "        text-align: right;\n",
              "    }\n",
              "</style>\n",
              "<table border=\"1\" class=\"dataframe\">\n",
              "  <thead>\n",
              "    <tr style=\"text-align: right;\">\n",
              "      <th></th>\n",
              "      <th>제목</th>\n",
              "      <th>영화코드_x</th>\n",
              "      <th>영화코드_y</th>\n",
              "      <th>total_star</th>\n",
              "      <th>total_reviewer</th>\n",
              "    </tr>\n",
              "  </thead>\n",
              "  <tbody>\n",
              "    <tr>\n",
              "      <th>0</th>\n",
              "      <td>플란다스의 개</td>\n",
              "      <td>1.0</td>\n",
              "      <td>28267</td>\n",
              "      <td>498.798</td>\n",
              "      <td>618.0</td>\n",
              "    </tr>\n",
              "    <tr>\n",
              "      <th>1</th>\n",
              "      <td>카라</td>\n",
              "      <td>2.0</td>\n",
              "      <td>25580</td>\n",
              "      <td>86.493</td>\n",
              "      <td>138.0</td>\n",
              "    </tr>\n",
              "    <tr>\n",
              "      <th>2</th>\n",
              "      <td>주노명 베이커리</td>\n",
              "      <td>3.0</td>\n",
              "      <td>26351</td>\n",
              "      <td>44.350</td>\n",
              "      <td>58.0</td>\n",
              "    </tr>\n",
              "    <tr>\n",
              "      <th>3</th>\n",
              "      <td>여고괴담 두번째 이야기</td>\n",
              "      <td>4.0</td>\n",
              "      <td>25917</td>\n",
              "      <td>649.252</td>\n",
              "      <td>785.0</td>\n",
              "    </tr>\n",
              "    <tr>\n",
              "      <th>4</th>\n",
              "      <td>행복한 장의사</td>\n",
              "      <td>5.0</td>\n",
              "      <td>27629</td>\n",
              "      <td>148.941</td>\n",
              "      <td>174.0</td>\n",
              "    </tr>\n",
              "    <tr>\n",
              "      <th>...</th>\n",
              "      <td>...</td>\n",
              "      <td>...</td>\n",
              "      <td>...</td>\n",
              "      <td>...</td>\n",
              "      <td>...</td>\n",
              "    </tr>\n",
              "    <tr>\n",
              "      <th>44660</th>\n",
              "      <td>0</td>\n",
              "      <td>0.0</td>\n",
              "      <td>0</td>\n",
              "      <td>0.000</td>\n",
              "      <td>0.0</td>\n",
              "    </tr>\n",
              "    <tr>\n",
              "      <th>44661</th>\n",
              "      <td>0</td>\n",
              "      <td>0.0</td>\n",
              "      <td>0</td>\n",
              "      <td>0.000</td>\n",
              "      <td>0.0</td>\n",
              "    </tr>\n",
              "    <tr>\n",
              "      <th>44662</th>\n",
              "      <td>0</td>\n",
              "      <td>0.0</td>\n",
              "      <td>0</td>\n",
              "      <td>0.000</td>\n",
              "      <td>0.0</td>\n",
              "    </tr>\n",
              "    <tr>\n",
              "      <th>44663</th>\n",
              "      <td>0</td>\n",
              "      <td>0.0</td>\n",
              "      <td>0</td>\n",
              "      <td>0.000</td>\n",
              "      <td>0.0</td>\n",
              "    </tr>\n",
              "    <tr>\n",
              "      <th>44664</th>\n",
              "      <td>0</td>\n",
              "      <td>0.0</td>\n",
              "      <td>0</td>\n",
              "      <td>0.000</td>\n",
              "      <td>0.0</td>\n",
              "    </tr>\n",
              "  </tbody>\n",
              "</table>\n",
              "<p>44665 rows × 5 columns</p>\n",
              "</div>"
            ],
            "text/plain": [
              "                 제목  영화코드_x 영화코드_y  total_star  total_reviewer\n",
              "0           플란다스의 개     1.0  28267     498.798           618.0\n",
              "1                카라     2.0  25580      86.493           138.0\n",
              "2          주노명 베이커리     3.0  26351      44.350            58.0\n",
              "3      여고괴담 두번째 이야기     4.0  25917     649.252           785.0\n",
              "4           행복한 장의사     5.0  27629     148.941           174.0\n",
              "...             ...     ...    ...         ...             ...\n",
              "44660             0     0.0      0       0.000             0.0\n",
              "44661             0     0.0      0       0.000             0.0\n",
              "44662             0     0.0      0       0.000             0.0\n",
              "44663             0     0.0      0       0.000             0.0\n",
              "44664             0     0.0      0       0.000             0.0\n",
              "\n",
              "[44665 rows x 5 columns]"
            ]
          },
          "metadata": {
            "tags": []
          },
          "execution_count": 151
        }
      ]
    },
    {
      "cell_type": "code",
      "metadata": {
        "id": "8vxgsaXcZWvQ"
      },
      "source": [
        "merged['a'] = merged['total_star'] + 1\n",
        "merged['b'] = 1 + merged['total_reviewer'] - merged['total_star']\n",
        "\n",
        "merged['mu'] = merged['a'] / (merged['a']+merged['b'])\n",
        "\n",
        "merged['std_err'] = 1.65 * np.sqrt((merged['a'] * merged['b']) / (((merged['a'] + merged['b'])**2) * (merged['a'] + merged['b'] + 1 )) )\n",
        "\n",
        "merged['lb'] = merged['mu'] - merged['std_err']"
      ],
      "execution_count": 152,
      "outputs": []
    },
    {
      "cell_type": "code",
      "metadata": {
        "id": "h36K3JVjZqFN"
      },
      "source": [
        "merged_reorder = merged.sort_values('lb', ascending = False)"
      ],
      "execution_count": 153,
      "outputs": []
    },
    {
      "cell_type": "code",
      "metadata": {
        "id": "cWL5hM4wZx-D"
      },
      "source": [
        "merged_reorder = merged_reorder.reset_index(drop = True)"
      ],
      "execution_count": 156,
      "outputs": []
    },
    {
      "cell_type": "code",
      "metadata": {
        "id": "NV4DX22DZzCO"
      },
      "source": [
        "merged_reorder.to_csv('merged_reorder.csv')"
      ],
      "execution_count": 157,
      "outputs": []
    },
    {
      "cell_type": "code",
      "metadata": {
        "id": "WRkia8vMbh8O",
        "outputId": "e9c6dc87-e472-47bb-b908-ba34c6560ee3",
        "colab": {
          "base_uri": "https://localhost:8080/",
          "height": 16
        }
      },
      "source": [
        "from google.colab import files\n",
        "files.download(\"merged_reorder.csv\")"
      ],
      "execution_count": 158,
      "outputs": [
        {
          "output_type": "display_data",
          "data": {
            "application/javascript": [
              "\n",
              "    async function download(id, filename, size) {\n",
              "      if (!google.colab.kernel.accessAllowed) {\n",
              "        return;\n",
              "      }\n",
              "      const div = document.createElement('div');\n",
              "      const label = document.createElement('label');\n",
              "      label.textContent = `Downloading \"${filename}\": `;\n",
              "      div.appendChild(label);\n",
              "      const progress = document.createElement('progress');\n",
              "      progress.max = size;\n",
              "      div.appendChild(progress);\n",
              "      document.body.appendChild(div);\n",
              "\n",
              "      const buffers = [];\n",
              "      let downloaded = 0;\n",
              "\n",
              "      const channel = await google.colab.kernel.comms.open(id);\n",
              "      // Send a message to notify the kernel that we're ready.\n",
              "      channel.send({})\n",
              "\n",
              "      for await (const message of channel.messages) {\n",
              "        // Send a message to notify the kernel that we're ready.\n",
              "        channel.send({})\n",
              "        if (message.buffers) {\n",
              "          for (const buffer of message.buffers) {\n",
              "            buffers.push(buffer);\n",
              "            downloaded += buffer.byteLength;\n",
              "            progress.value = downloaded;\n",
              "          }\n",
              "        }\n",
              "      }\n",
              "      const blob = new Blob(buffers, {type: 'application/binary'});\n",
              "      const a = document.createElement('a');\n",
              "      a.href = window.URL.createObjectURL(blob);\n",
              "      a.download = filename;\n",
              "      div.appendChild(a);\n",
              "      a.click();\n",
              "      div.remove();\n",
              "    }\n",
              "  "
            ],
            "text/plain": [
              "<IPython.core.display.Javascript object>"
            ]
          },
          "metadata": {
            "tags": []
          }
        },
        {
          "output_type": "display_data",
          "data": {
            "application/javascript": [
              "download(\"download_ae51dd17-c8aa-4c4b-8e2a-ab4105f2335c\", \"merged_reorder.csv\", 4684548)"
            ],
            "text/plain": [
              "<IPython.core.display.Javascript object>"
            ]
          },
          "metadata": {
            "tags": []
          }
        }
      ]
    }
  ]
}